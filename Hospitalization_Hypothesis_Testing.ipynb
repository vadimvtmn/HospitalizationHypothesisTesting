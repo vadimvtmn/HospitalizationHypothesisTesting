{
 "cells": [
  {
   "cell_type": "markdown",
   "metadata": {},
   "source": [
    "# Hospitalization Hypothesis Testing"
   ]
  },
  {
   "cell_type": "markdown",
   "metadata": {},
   "source": [
    "## Content\n",
    "* [Assignment](#assgnmt)\n",
    "* [Preparation](#prep)\n",
    "* [Exploration](#explr)\n",
    "* [Viral load in regions](#vir_region)\n",
    "    * [northeast](#northeast)\n",
    "    * [northwest](#northwest)\n",
    "    * [southeast](#southeast)\n",
    "    * [southwest](#southwest)\n",
    "* [Impact on hospitalization charges](#hosp_impact)\n"
   ]
  },
  {
   "cell_type": "markdown",
   "metadata": {},
   "source": [
    "## Assignment <a id=\"assgnmt\"></a>\n",
    "Apollo Hospitals renowned as the architect of modern healthcare in India.\\\n",
    "They collected data of COVID-19 hospital patients and want to know:\n",
    "- which variables are significant in predicting the viral load for different regions;\n",
    "- how well some variables like viral load, smoking, and severity level describe the hospitalization charges;\n",
    "\n",
    "For this, one dataset is given:\n",
    "- `apollo_data.csv` - contains anonymized data of COVID-19 hospital patients and contains the [following variables](apollo_dataset_info.txt) (click on link)."
   ]
  },
  {
   "cell_type": "markdown",
   "metadata": {},
   "source": [
    "## Preparation <a id=\"prep\"></a>"
   ]
  },
  {
   "cell_type": "code",
   "execution_count": 1,
   "metadata": {
    "ExecuteTime": {
     "end_time": "2023-07-20T15:03:14.730513200Z",
     "start_time": "2023-07-20T15:03:13.099063200Z"
    },
    "collapsed": false,
    "jupyter": {
     "outputs_hidden": false
    }
   },
   "outputs": [],
   "source": [
    "#Import libraries and dataset\n",
    "import pandas as pd\n",
    "import numpy as np\n",
    "from scipy import stats\n",
    "from statsmodels.stats.multicomp import pairwise_tukeyhsd\n",
    "import statsmodels.api as sm\n",
    "from statsmodels.formula.api import ols\n",
    "import matplotlib.pyplot as plt\n",
    "import seaborn as sns\n",
    "\n",
    "data = pd.read_csv('apollo_data.csv')"
   ]
  },
  {
   "cell_type": "code",
   "execution_count": 2,
   "metadata": {
    "ExecuteTime": {
     "end_time": "2023-07-20T15:03:14.739964500Z",
     "start_time": "2023-07-20T15:03:14.730513200Z"
    },
    "collapsed": false,
    "jupyter": {
     "outputs_hidden": false
    }
   },
   "outputs": [
    {
     "name": "stdout",
     "output_type": "stream",
     "text": [
      "<class 'pandas.core.frame.DataFrame'>\n",
      "RangeIndex: 1338 entries, 0 to 1337\n",
      "Data columns (total 8 columns):\n",
      " #   Column                   Non-Null Count  Dtype  \n",
      "---  ------                   --------------  -----  \n",
      " 0   Unnamed: 0               1338 non-null   int64  \n",
      " 1   age                      1338 non-null   int64  \n",
      " 2   sex                      1338 non-null   object \n",
      " 3   smoker                   1338 non-null   object \n",
      " 4   region                   1338 non-null   object \n",
      " 5   viral load               1338 non-null   float64\n",
      " 6   severity level           1338 non-null   int64  \n",
      " 7   hospitalization charges  1338 non-null   int64  \n",
      "dtypes: float64(1), int64(4), object(3)\n",
      "memory usage: 83.8+ KB\n"
     ]
    }
   ],
   "source": [
    "#Understand types of data in the dataset\n",
    "data.info()"
   ]
  },
  {
   "cell_type": "code",
   "execution_count": 3,
   "metadata": {
    "ExecuteTime": {
     "end_time": "2023-07-20T15:03:14.823313200Z",
     "start_time": "2023-07-20T15:03:14.742963900Z"
    },
    "collapsed": false,
    "jupyter": {
     "outputs_hidden": false
    }
   },
   "outputs": [
    {
     "data": {
      "text/html": [
       "<div>\n",
       "<style scoped>\n",
       "    .dataframe tbody tr th:only-of-type {\n",
       "        vertical-align: middle;\n",
       "    }\n",
       "\n",
       "    .dataframe tbody tr th {\n",
       "        vertical-align: top;\n",
       "    }\n",
       "\n",
       "    .dataframe thead th {\n",
       "        text-align: right;\n",
       "    }\n",
       "</style>\n",
       "<table border=\"1\" class=\"dataframe\">\n",
       "  <thead>\n",
       "    <tr style=\"text-align: right;\">\n",
       "      <th></th>\n",
       "      <th>Unnamed: 0</th>\n",
       "      <th>age</th>\n",
       "      <th>sex</th>\n",
       "      <th>smoker</th>\n",
       "      <th>region</th>\n",
       "      <th>viral load</th>\n",
       "      <th>severity level</th>\n",
       "      <th>hospitalization charges</th>\n",
       "    </tr>\n",
       "  </thead>\n",
       "  <tbody>\n",
       "    <tr>\n",
       "      <th>0</th>\n",
       "      <td>0</td>\n",
       "      <td>19</td>\n",
       "      <td>female</td>\n",
       "      <td>yes</td>\n",
       "      <td>southwest</td>\n",
       "      <td>9.30</td>\n",
       "      <td>0</td>\n",
       "      <td>42212</td>\n",
       "    </tr>\n",
       "    <tr>\n",
       "      <th>1</th>\n",
       "      <td>1</td>\n",
       "      <td>18</td>\n",
       "      <td>male</td>\n",
       "      <td>no</td>\n",
       "      <td>southeast</td>\n",
       "      <td>11.26</td>\n",
       "      <td>1</td>\n",
       "      <td>4314</td>\n",
       "    </tr>\n",
       "    <tr>\n",
       "      <th>2</th>\n",
       "      <td>2</td>\n",
       "      <td>28</td>\n",
       "      <td>male</td>\n",
       "      <td>no</td>\n",
       "      <td>southeast</td>\n",
       "      <td>11.00</td>\n",
       "      <td>3</td>\n",
       "      <td>11124</td>\n",
       "    </tr>\n",
       "    <tr>\n",
       "      <th>3</th>\n",
       "      <td>3</td>\n",
       "      <td>33</td>\n",
       "      <td>male</td>\n",
       "      <td>no</td>\n",
       "      <td>northwest</td>\n",
       "      <td>7.57</td>\n",
       "      <td>0</td>\n",
       "      <td>54961</td>\n",
       "    </tr>\n",
       "    <tr>\n",
       "      <th>4</th>\n",
       "      <td>4</td>\n",
       "      <td>32</td>\n",
       "      <td>male</td>\n",
       "      <td>no</td>\n",
       "      <td>northwest</td>\n",
       "      <td>9.63</td>\n",
       "      <td>0</td>\n",
       "      <td>9667</td>\n",
       "    </tr>\n",
       "  </tbody>\n",
       "</table>\n",
       "</div>"
      ],
      "text/plain": [
       "   Unnamed: 0  age     sex smoker     region  viral load  severity level  \\\n",
       "0           0   19  female    yes  southwest        9.30               0   \n",
       "1           1   18    male     no  southeast       11.26               1   \n",
       "2           2   28    male     no  southeast       11.00               3   \n",
       "3           3   33    male     no  northwest        7.57               0   \n",
       "4           4   32    male     no  northwest        9.63               0   \n",
       "\n",
       "   hospitalization charges  \n",
       "0                    42212  \n",
       "1                     4314  \n",
       "2                    11124  \n",
       "3                    54961  \n",
       "4                     9667  "
      ]
     },
     "execution_count": 3,
     "metadata": {},
     "output_type": "execute_result"
    }
   ],
   "source": [
    "#Understand columns content\n",
    "data.head()"
   ]
  },
  {
   "cell_type": "code",
   "execution_count": 4,
   "metadata": {
    "ExecuteTime": {
     "end_time": "2023-07-20T15:03:14.824313100Z",
     "start_time": "2023-07-20T15:03:14.775492300Z"
    },
    "collapsed": false,
    "jupyter": {
     "outputs_hidden": false
    }
   },
   "outputs": [],
   "source": [
    "#Drop tech. column\n",
    "data.drop(columns='Unnamed: 0', inplace=True)"
   ]
  },
  {
   "cell_type": "code",
   "execution_count": 5,
   "metadata": {
    "ExecuteTime": {
     "end_time": "2023-07-20T15:03:14.824313100Z",
     "start_time": "2023-07-20T15:03:14.781705600Z"
    },
    "collapsed": false,
    "jupyter": {
     "outputs_hidden": false
    }
   },
   "outputs": [],
   "source": [
    "#Raname columns to remove spaces\n",
    "data = data.rename(columns={'viral load': 'viral_load',\n",
    "                            'age category': 'age_category',\n",
    "                            'severity level': 'severity_level',\n",
    "                            'hospitalization charges': 'hospitalization_charges'})"
   ]
  },
  {
   "cell_type": "code",
   "execution_count": 71,
   "metadata": {},
   "outputs": [
    {
     "data": {
      "text/plain": [
       "age                        0\n",
       "sex                        0\n",
       "smoker                     0\n",
       "region                     0\n",
       "viral_load                 0\n",
       "severity_level             0\n",
       "hospitalization_charges    0\n",
       "age_category               0\n",
       "dtype: int64"
      ]
     },
     "execution_count": 71,
     "metadata": {},
     "output_type": "execute_result"
    }
   ],
   "source": [
    "#Check nulls\n",
    "data.isna().sum()"
   ]
  },
  {
   "cell_type": "markdown",
   "metadata": {},
   "source": [
    "## Exploration <a id=\"explr\"></a>"
   ]
  },
  {
   "cell_type": "code",
   "execution_count": 6,
   "metadata": {
    "ExecuteTime": {
     "end_time": "2023-07-20T15:03:14.825314Z",
     "start_time": "2023-07-20T15:03:14.795125Z"
    },
    "collapsed": false,
    "jupyter": {
     "outputs_hidden": false
    }
   },
   "outputs": [
    {
     "data": {
      "text/html": [
       "<div>\n",
       "<style scoped>\n",
       "    .dataframe tbody tr th:only-of-type {\n",
       "        vertical-align: middle;\n",
       "    }\n",
       "\n",
       "    .dataframe tbody tr th {\n",
       "        vertical-align: top;\n",
       "    }\n",
       "\n",
       "    .dataframe thead th {\n",
       "        text-align: right;\n",
       "    }\n",
       "</style>\n",
       "<table border=\"1\" class=\"dataframe\">\n",
       "  <thead>\n",
       "    <tr style=\"text-align: right;\">\n",
       "      <th></th>\n",
       "      <th>age</th>\n",
       "      <th>viral_load</th>\n",
       "      <th>severity_level</th>\n",
       "      <th>hospitalization_charges</th>\n",
       "    </tr>\n",
       "  </thead>\n",
       "  <tbody>\n",
       "    <tr>\n",
       "      <th>count</th>\n",
       "      <td>1338.000000</td>\n",
       "      <td>1338.000000</td>\n",
       "      <td>1338.000000</td>\n",
       "      <td>1338.000000</td>\n",
       "    </tr>\n",
       "    <tr>\n",
       "      <th>mean</th>\n",
       "      <td>39.207025</td>\n",
       "      <td>10.221233</td>\n",
       "      <td>1.094918</td>\n",
       "      <td>33176.058296</td>\n",
       "    </tr>\n",
       "    <tr>\n",
       "      <th>std</th>\n",
       "      <td>14.049960</td>\n",
       "      <td>2.032796</td>\n",
       "      <td>1.205493</td>\n",
       "      <td>30275.029296</td>\n",
       "    </tr>\n",
       "    <tr>\n",
       "      <th>min</th>\n",
       "      <td>18.000000</td>\n",
       "      <td>5.320000</td>\n",
       "      <td>0.000000</td>\n",
       "      <td>2805.000000</td>\n",
       "    </tr>\n",
       "    <tr>\n",
       "      <th>25%</th>\n",
       "      <td>27.000000</td>\n",
       "      <td>8.762500</td>\n",
       "      <td>0.000000</td>\n",
       "      <td>11851.000000</td>\n",
       "    </tr>\n",
       "    <tr>\n",
       "      <th>50%</th>\n",
       "      <td>39.000000</td>\n",
       "      <td>10.130000</td>\n",
       "      <td>1.000000</td>\n",
       "      <td>23455.000000</td>\n",
       "    </tr>\n",
       "    <tr>\n",
       "      <th>75%</th>\n",
       "      <td>51.000000</td>\n",
       "      <td>11.567500</td>\n",
       "      <td>2.000000</td>\n",
       "      <td>41599.500000</td>\n",
       "    </tr>\n",
       "    <tr>\n",
       "      <th>max</th>\n",
       "      <td>64.000000</td>\n",
       "      <td>17.710000</td>\n",
       "      <td>5.000000</td>\n",
       "      <td>159426.000000</td>\n",
       "    </tr>\n",
       "  </tbody>\n",
       "</table>\n",
       "</div>"
      ],
      "text/plain": [
       "               age   viral_load  severity_level  hospitalization_charges\n",
       "count  1338.000000  1338.000000     1338.000000              1338.000000\n",
       "mean     39.207025    10.221233        1.094918             33176.058296\n",
       "std      14.049960     2.032796        1.205493             30275.029296\n",
       "min      18.000000     5.320000        0.000000              2805.000000\n",
       "25%      27.000000     8.762500        0.000000             11851.000000\n",
       "50%      39.000000    10.130000        1.000000             23455.000000\n",
       "75%      51.000000    11.567500        2.000000             41599.500000\n",
       "max      64.000000    17.710000        5.000000            159426.000000"
      ]
     },
     "execution_count": 6,
     "metadata": {},
     "output_type": "execute_result"
    }
   ],
   "source": [
    "#Understand basic statistics and outliers\n",
    "data.describe()"
   ]
  },
  {
   "cell_type": "code",
   "execution_count": 7,
   "metadata": {
    "ExecuteTime": {
     "end_time": "2023-07-20T15:03:15.057669900Z",
     "start_time": "2023-07-20T15:03:14.818311200Z"
    }
   },
   "outputs": [
    {
     "data": {
      "image/png": "[encoded data removed]",
      "text/plain": [
       "<Figure size 500x300 with 1 Axes>"
      ]
     },
     "metadata": {},
     "output_type": "display_data"
    }
   ],
   "source": [
    "#Understand distribution of 'age' variable\n",
    "plt.figure(figsize=(5,3))\n",
    "sns.histplot(data['age'], kde=True)\n",
    "plt.title('Age distribution')\n",
    "\n",
    "plt.show()"
   ]
  },
  {
   "cell_type": "code",
   "execution_count": 8,
   "metadata": {
    "ExecuteTime": {
     "end_time": "2023-07-20T15:03:15.308264600Z",
     "start_time": "2023-07-20T15:03:15.073674200Z"
    }
   },
   "outputs": [
    {
     "data": {
      "image/png": "[encoded data removed]",
      "text/plain": [
       "<Figure size 500x300 with 1 Axes>"
      ]
     },
     "metadata": {},
     "output_type": "display_data"
    }
   ],
   "source": [
    "#Understand distribution of 'viral_load' variable\n",
    "plt.figure(figsize=(5,3))\n",
    "sns.histplot(data['viral_load'], kde=True)\n",
    "plt.title('Viral load distribution')\n",
    "\n",
    "plt.show()"
   ]
  },
  {
   "cell_type": "code",
   "execution_count": 9,
   "metadata": {
    "ExecuteTime": {
     "end_time": "2023-07-20T15:03:15.570471100Z",
     "start_time": "2023-07-20T15:03:15.320931400Z"
    }
   },
   "outputs": [
    {
     "data": {
      "image/png": "[encoded data removed]",
      "text/plain": [
       "<Figure size 500x300 with 1 Axes>"
      ]
     },
     "metadata": {},
     "output_type": "display_data"
    }
   ],
   "source": [
    "#Understand distribution of 'hospitalization_charges' variable\n",
    "plt.figure(figsize=(5,3))\n",
    "sns.histplot(data['hospitalization_charges'], kde=True)\n",
    "plt.xticks(rotation = -45)\n",
    "plt.title('Hospital. costs distribution')\n",
    "\n",
    "plt.show()"
   ]
  },
  {
   "cell_type": "code",
   "execution_count": 10,
   "metadata": {
    "ExecuteTime": {
     "end_time": "2023-07-20T15:03:15.766146300Z",
     "start_time": "2023-07-20T15:03:15.571471200Z"
    },
    "collapsed": false,
    "jupyter": {
     "outputs_hidden": false
    }
   },
   "outputs": [
    {
     "data": {
      "image/png": "[encoded data removed]",
      "text/plain": [
       "<Figure size 700x500 with 2 Axes>"
      ]
     },
     "metadata": {},
     "output_type": "display_data"
    }
   ],
   "source": [
    "#Buid heatmap to observe correlation between numerical variables\n",
    "numeric_var = data[['age', 'viral_load', 'hospitalization_charges']]\n",
    "\n",
    "plt.figure(figsize=(7,5))\n",
    "sns.heatmap(numeric_var.corr(), cmap = sns.color_palette('crest', as_cmap=True), annot = True)\n",
    "plt.title('Correlation between numerical variables')\n",
    "\n",
    "plt.show()"
   ]
  },
  {
   "cell_type": "markdown",
   "metadata": {},
   "source": [
    "According to the plot above, there is slight correlation between dependent variable 'hospitalization_charges' and independent ones: 'age', 'viral_load'."
   ]
  },
  {
   "cell_type": "code",
   "execution_count": 11,
   "metadata": {
    "ExecuteTime": {
     "end_time": "2023-07-20T15:03:15.909138100Z",
     "start_time": "2023-07-20T15:03:15.769143400Z"
    },
    "collapsed": false,
    "jupyter": {
     "outputs_hidden": false
    }
   },
   "outputs": [
    {
     "data": {
      "image/png": "[encoded data removed]",
      "text/plain": [
       "<Figure size 600x500 with 1 Axes>"
      ]
     },
     "metadata": {},
     "output_type": "display_data"
    }
   ],
   "source": [
    "#Group data by region\n",
    "region = data.groupby('region').size().reset_index(name='count')\n",
    "\n",
    "#Build bar plot to compare number of patients\n",
    "plt.figure(figsize=(6,5))\n",
    "plt.bar(region['region'], region['count'])\n",
    "\n",
    "for i, value in enumerate(region['count']): #Bars annotation\n",
    "    plt.annotate(str(value), (region['region'][i], value), ha='center', va='bottom')\n",
    "\n",
    "plt.ylabel('patients')\n",
    "plt.title('Patients by region')\n",
    "\n",
    "plt.show()"
   ]
  },
  {
   "cell_type": "markdown",
   "metadata": {},
   "source": [
    "Based on chart above, Southeast region has more COVID cases than others. In other regions this number is equal."
   ]
  },
  {
   "cell_type": "code",
   "execution_count": 12,
   "metadata": {
    "ExecuteTime": {
     "end_time": "2023-07-20T15:03:15.932163100Z",
     "start_time": "2023-07-20T15:03:15.912897100Z"
    },
    "collapsed": false,
    "jupyter": {
     "outputs_hidden": false
    }
   },
   "outputs": [
    {
     "data": {
      "text/html": [
       "<div>\n",
       "<style scoped>\n",
       "    .dataframe tbody tr th:only-of-type {\n",
       "        vertical-align: middle;\n",
       "    }\n",
       "\n",
       "    .dataframe tbody tr th {\n",
       "        vertical-align: top;\n",
       "    }\n",
       "\n",
       "    .dataframe thead th {\n",
       "        text-align: right;\n",
       "    }\n",
       "</style>\n",
       "<table border=\"1\" class=\"dataframe\">\n",
       "  <thead>\n",
       "    <tr style=\"text-align: right;\">\n",
       "      <th>severity_level</th>\n",
       "      <th>0</th>\n",
       "      <th>1</th>\n",
       "      <th>2</th>\n",
       "      <th>3</th>\n",
       "      <th>4</th>\n",
       "      <th>5</th>\n",
       "    </tr>\n",
       "    <tr>\n",
       "      <th>region</th>\n",
       "      <th></th>\n",
       "      <th></th>\n",
       "      <th></th>\n",
       "      <th></th>\n",
       "      <th></th>\n",
       "      <th></th>\n",
       "    </tr>\n",
       "  </thead>\n",
       "  <tbody>\n",
       "    <tr>\n",
       "      <th>northeast</th>\n",
       "      <td>147</td>\n",
       "      <td>77</td>\n",
       "      <td>51</td>\n",
       "      <td>39</td>\n",
       "      <td>7</td>\n",
       "      <td>3</td>\n",
       "    </tr>\n",
       "    <tr>\n",
       "      <th>northwest</th>\n",
       "      <td>132</td>\n",
       "      <td>74</td>\n",
       "      <td>66</td>\n",
       "      <td>46</td>\n",
       "      <td>6</td>\n",
       "      <td>1</td>\n",
       "    </tr>\n",
       "    <tr>\n",
       "      <th>southeast</th>\n",
       "      <td>157</td>\n",
       "      <td>95</td>\n",
       "      <td>66</td>\n",
       "      <td>35</td>\n",
       "      <td>5</td>\n",
       "      <td>6</td>\n",
       "    </tr>\n",
       "    <tr>\n",
       "      <th>southwest</th>\n",
       "      <td>138</td>\n",
       "      <td>78</td>\n",
       "      <td>57</td>\n",
       "      <td>37</td>\n",
       "      <td>7</td>\n",
       "      <td>8</td>\n",
       "    </tr>\n",
       "  </tbody>\n",
       "</table>\n",
       "</div>"
      ],
      "text/plain": [
       "severity_level    0   1   2   3  4  5\n",
       "region                               \n",
       "northeast       147  77  51  39  7  3\n",
       "northwest       132  74  66  46  6  1\n",
       "southeast       157  95  66  35  5  6\n",
       "southwest       138  78  57  37  7  8"
      ]
     },
     "execution_count": 12,
     "metadata": {},
     "output_type": "execute_result"
    }
   ],
   "source": [
    "#Bulid pivot table severity level by region\n",
    "cross_tab = pd.crosstab(index=data['region'],\n",
    "                             columns=data['severity_level'])\n",
    "\n",
    "cross_tab"
   ]
  },
  {
   "cell_type": "markdown",
   "metadata": {},
   "source": [
    "Number of patients with certain severity level verise in different regions.\\\n",
    "However most patients have asymptomatic level (0) in each region.\\\n",
    "Below I built bar chart which help to recognize difference in proportions."
   ]
  },
  {
   "cell_type": "code",
   "execution_count": 13,
   "metadata": {
    "ExecuteTime": {
     "end_time": "2023-07-20T15:03:16.212110400Z",
     "start_time": "2023-07-20T15:03:15.933163200Z"
    }
   },
   "outputs": [
    {
     "data": {
      "image/png": "[encoded data removed]",
      "text/plain": [
       "<Figure size 800x600 with 1 Axes>"
      ]
     },
     "metadata": {},
     "output_type": "display_data"
    }
   ],
   "source": [
    "#Built visualization proportions of different severity level\n",
    "\n",
    "#Create pivot with proportion\n",
    "cross_tab_prop = pd.crosstab(index=data['region'],\n",
    "                             columns=data['severity_level'],\n",
    "                             normalize='index')\n",
    "\n",
    "#Stucked chart\n",
    "cross_tab_prop.plot(kind='bar', \n",
    "                        stacked=True, \n",
    "                        colormap='tab10', \n",
    "                        figsize=(8, 6))\n",
    "\n",
    "#Bars annotation\n",
    "for n, x in enumerate([*cross_tab.index.values]): \n",
    "    for (proportion, y_loc) in zip(cross_tab_prop.loc[x],\n",
    "                                   cross_tab_prop.loc[x].cumsum()):\n",
    "                \n",
    "        plt.text(x=n - 0.12,\n",
    "                 y=(y_loc - proportion) + (proportion / 2),\n",
    "                 s=f'{np.round(proportion * 100, 1)}%', \n",
    "                 color='black',\n",
    "                 fontsize=10)\n",
    "        \n",
    "plt.legend(loc='lower left', ncol=2)\n",
    "plt.xticks(rotation = 0)\n",
    "plt.xlabel('')\n",
    "plt.title('Proportion of severity levels in regions') \n",
    "\n",
    "plt.show()"
   ]
  },
  {
   "cell_type": "markdown",
   "metadata": {},
   "source": [
    "According to the plot above, the biggets % of level 0 patients is within Northeast region. However this region has the lowest % of light level patients (1-2 level) and it is 2nd in hightest percent of level 3 patients (12%).\\\n",
    "Southeast region has the biggest proportion of light level patients (44.2%) and the lowest % of medium-hard patients (12.6%).\\\n",
    "Southwest region ranks 1st in the % of medium-hard patients (16.3%).\n"
   ]
  },
  {
   "cell_type": "code",
   "execution_count": 14,
   "metadata": {
    "ExecuteTime": {
     "end_time": "2023-07-20T15:03:16.218863600Z",
     "start_time": "2023-07-20T15:03:16.215867400Z"
    },
    "collapsed": false,
    "jupyter": {
     "outputs_hidden": false
    }
   },
   "outputs": [],
   "source": [
    "#Function to split patients into age groups\n",
    "def age_class(age):\n",
    "    if (age >= 18)&(age <= 29):\n",
    "        return '18-29'\n",
    "    if (age >= 30)&(age <= 39):\n",
    "        return '30-39'\n",
    "    if (age >= 40)&(age <= 49):\n",
    "        return '40-49'\n",
    "    else:\n",
    "        return '50-64'\n",
    "\n",
    "#Add column 'age_category'\n",
    "data['age_category'] = data.age.apply(age_class)"
   ]
  },
  {
   "cell_type": "code",
   "execution_count": 15,
   "metadata": {
    "ExecuteTime": {
     "end_time": "2023-07-20T15:03:16.355903500Z",
     "start_time": "2023-07-20T15:03:16.218863600Z"
    },
    "collapsed": false,
    "jupyter": {
     "outputs_hidden": false
    }
   },
   "outputs": [
    {
     "data": {
      "image/png": "[encoded data removed]",
      "text/plain": [
       "<Figure size 640x480 with 1 Axes>"
      ]
     },
     "metadata": {},
     "output_type": "display_data"
    }
   ],
   "source": [
    "#Group patients by age category\n",
    "age_groups = data.groupby('age_category').size().reset_index(name='count')\n",
    "\n",
    "#Bulid bar plot based on grouped table\n",
    "plt.bar(age_groups['age_category'], age_groups['count'])\n",
    "plt.ylabel('patients')\n",
    "plt.title('Patients by age group')\n",
    "\n",
    "plt.show()"
   ]
  },
  {
   "cell_type": "markdown",
   "metadata": {},
   "source": [
    "Most common age group is 18-29 and 50-64 being the next common one."
   ]
  },
  {
   "cell_type": "code",
   "execution_count": 16,
   "metadata": {
    "ExecuteTime": {
     "end_time": "2023-07-20T15:03:16.466157100Z",
     "start_time": "2023-07-20T15:03:16.356896Z"
    },
    "collapsed": false,
    "jupyter": {
     "outputs_hidden": false
    }
   },
   "outputs": [
    {
     "data": {
      "image/png": "[encoded data removed]",
      "text/plain": [
       "<Figure size 600x500 with 1 Axes>"
      ]
     },
     "metadata": {},
     "output_type": "display_data"
    }
   ],
   "source": [
    "#Group rows by gender\n",
    "genders = data.groupby('sex').size().reset_index(name='count')\n",
    "\n",
    "#Bulid bar plot based on grouped table\n",
    "plt.figure(figsize=(6,5))\n",
    "plt.bar(genders['sex'], genders['count'])\n",
    "plt.ylabel('patients')\n",
    "plt.title('Patients by gender')\n",
    "\n",
    "plt.show()"
   ]
  },
  {
   "cell_type": "markdown",
   "metadata": {},
   "source": [
    "Number of female patients is almost the same as number of male patienst."
   ]
  },
  {
   "cell_type": "code",
   "execution_count": 17,
   "metadata": {
    "ExecuteTime": {
     "end_time": "2023-07-20T15:03:16.572800800Z",
     "start_time": "2023-07-20T15:03:16.468156100Z"
    }
   },
   "outputs": [
    {
     "data": {
      "image/png": "[encoded data removed]",
      "text/plain": [
       "<Figure size 600x500 with 1 Axes>"
      ]
     },
     "metadata": {},
     "output_type": "display_data"
    }
   ],
   "source": [
    "#Group rows by 'smoker' field\n",
    "smok = data.groupby('smoker').size().reset_index(name='count')\n",
    "\n",
    "#Bulid bar plot based on grouped table\n",
    "plt.figure(figsize=(6,5))\n",
    "plt.bar(smok['smoker'], smok['count'])\n",
    "plt.ylabel('patients')\n",
    "plt.title('Patients smoke')\n",
    "\n",
    "plt.show()"
   ]
  },
  {
   "cell_type": "markdown",
   "metadata": {},
   "source": [
    "## Viral load in regions <a id=\"vir_region\"></a>\n",
    "In this section I explored what independent variables significantly influence on viral load in 4 regions."
   ]
  },
  {
   "cell_type": "code",
   "execution_count": 18,
   "metadata": {
    "ExecuteTime": {
     "end_time": "2023-07-20T15:03:16.582146300Z",
     "start_time": "2023-07-20T15:03:16.573802Z"
    },
    "collapsed": false,
    "jupyter": {
     "outputs_hidden": false
    }
   },
   "outputs": [
    {
     "data": {
      "text/html": [
       "<div>\n",
       "<style scoped>\n",
       "    .dataframe tbody tr th:only-of-type {\n",
       "        vertical-align: middle;\n",
       "    }\n",
       "\n",
       "    .dataframe tbody tr th {\n",
       "        vertical-align: top;\n",
       "    }\n",
       "\n",
       "    .dataframe thead th {\n",
       "        text-align: right;\n",
       "    }\n",
       "</style>\n",
       "<table border=\"1\" class=\"dataframe\">\n",
       "  <thead>\n",
       "    <tr style=\"text-align: right;\">\n",
       "      <th></th>\n",
       "      <th>region</th>\n",
       "      <th>viral_load</th>\n",
       "    </tr>\n",
       "  </thead>\n",
       "  <tbody>\n",
       "    <tr>\n",
       "      <th>0</th>\n",
       "      <td>northeast</td>\n",
       "      <td>9.724722</td>\n",
       "    </tr>\n",
       "    <tr>\n",
       "      <th>1</th>\n",
       "      <td>northwest</td>\n",
       "      <td>9.733508</td>\n",
       "    </tr>\n",
       "    <tr>\n",
       "      <th>2</th>\n",
       "      <td>southeast</td>\n",
       "      <td>11.118516</td>\n",
       "    </tr>\n",
       "    <tr>\n",
       "      <th>3</th>\n",
       "      <td>southwest</td>\n",
       "      <td>10.198985</td>\n",
       "    </tr>\n",
       "  </tbody>\n",
       "</table>\n",
       "</div>"
      ],
      "text/plain": [
       "      region  viral_load\n",
       "0  northeast    9.724722\n",
       "1  northwest    9.733508\n",
       "2  southeast   11.118516\n",
       "3  southwest   10.198985"
      ]
     },
     "execution_count": 18,
     "metadata": {},
     "output_type": "execute_result"
    }
   ],
   "source": [
    "#Find viral load mean for each region\n",
    "data.groupby('region')['viral_load'].mean().reset_index()"
   ]
  },
  {
   "cell_type": "markdown",
   "metadata": {},
   "source": [
    "Based on table, there is quite big difference in Southwest and Southeast regions, and slight difference between Northeast and Northwest regions.\n"
   ]
  },
  {
   "cell_type": "markdown",
   "metadata": {},
   "source": [
    "To check how significant difference between regions use 1-way ANOVA.\\\n",
    "But before we must be sure that our data meets following conditions:\n",
    "- data must be normally distributed;\n",
    "- variance in each group must be equal."
   ]
  },
  {
   "cell_type": "code",
   "execution_count": 19,
   "metadata": {
    "ExecuteTime": {
     "end_time": "2023-07-20T15:03:17.581363100Z",
     "start_time": "2023-07-20T15:03:16.586146900Z"
    },
    "collapsed": false,
    "jupyter": {
     "outputs_hidden": false
    }
   },
   "outputs": [
    {
     "data": {
      "image/png": "[encoded data removed]",
      "text/plain": [
       "<Figure size 800x800 with 4 Axes>"
      ]
     },
     "metadata": {},
     "output_type": "display_data"
    }
   ],
   "source": [
    "#Check distributions in terms of normality\n",
    "\n",
    "#Devide groups by region in different sets\n",
    "northeast = data[data.region == 'northeast'].reset_index(drop=True)\n",
    "northwest = data[data.region == 'northwest'].reset_index(drop=True)\n",
    "southeast = data[data.region == 'southeast'].reset_index(drop=True)\n",
    "southwest = data[data.region == 'southwest'].reset_index(drop=True)\n",
    "\n",
    "#Visualize distributions by building QQ-plots\n",
    "plt.figure(figsize=(8, 8))\n",
    "plt.subplot(2, 2, 1)\n",
    "\n",
    "stats.probplot(northeast['viral_load'], dist='norm', plot=plt)\n",
    "plt.title('QQ-plot Northeast')\n",
    "\n",
    "plt.subplot(2, 2, 2)\n",
    "stats.probplot(northwest['viral_load'], dist='norm', plot=plt)\n",
    "plt.title('QQ-plot Northwest')\n",
    "\n",
    "plt.subplot(2, 2, 3)\n",
    "stats.probplot(southeast['viral_load'], dist='norm', plot=plt)\n",
    "plt.title('QQ-plot Southeast')\n",
    "\n",
    "plt.subplot(2, 2, 4)\n",
    "stats.probplot(southwest['viral_load'], dist='norm', plot=plt)\n",
    "plt.title('QQ-plot Southwest')\n",
    "\n",
    "plt.tight_layout()\n",
    "plt.show()"
   ]
  },
  {
   "cell_type": "markdown",
   "metadata": {},
   "source": [
    "As it shown on plots above, all groups are normally distributed (most data points lies on normal line)."
   ]
  },
  {
   "cell_type": "code",
   "execution_count": 20,
   "metadata": {
    "ExecuteTime": {
     "end_time": "2023-07-20T15:03:17.587890800Z",
     "start_time": "2023-07-20T15:03:17.582364Z"
    },
    "collapsed": false,
    "jupyter": {
     "outputs_hidden": false
    }
   },
   "outputs": [
    {
     "data": {
      "text/plain": [
       "LeveneResult(statistic=6.184842373736755, pvalue=0.0003579587785752236)"
      ]
     },
     "execution_count": 20,
     "metadata": {},
     "output_type": "execute_result"
    }
   ],
   "source": [
    "#Check homoscedasticity using Levene's Test\n",
    "stats.levene(northeast['viral_load'], northwest['viral_load'], southeast['viral_load'], southwest['viral_load'])"
   ]
  },
  {
   "cell_type": "markdown",
   "metadata": {},
   "source": [
    "p-values < 0.05, means that variance between groups are different.\\\n",
    "Despite that we still can perform ANOVA duet to ANOVA is rule-breaking resistant if samples are quite big (>50)."
   ]
  },
  {
   "cell_type": "code",
   "execution_count": 21,
   "metadata": {
    "ExecuteTime": {
     "end_time": "2023-07-20T15:03:17.594013700Z",
     "start_time": "2023-07-20T15:03:17.588893700Z"
    },
    "collapsed": false,
    "jupyter": {
     "outputs_hidden": false
    }
   },
   "outputs": [
    {
     "data": {
      "text/plain": [
       "F_onewayResult(statistic=39.46870879747586, pvalue=1.9508165724451252e-24)"
      ]
     },
     "execution_count": 21,
     "metadata": {},
     "output_type": "execute_result"
    }
   ],
   "source": [
    "#Perfrom 1-way ANOVA\n",
    "stats.f_oneway(northeast['viral_load'], northwest['viral_load'], southeast['viral_load'], southwest['viral_load'])"
   ]
  },
  {
   "cell_type": "markdown",
   "metadata": {},
   "source": [
    "p-value < 0.05 - reject null hypothesis. There is significant difference between at least two groups.\\\n",
    "To check which pairs are different I will use Tukey HSD test."
   ]
  },
  {
   "cell_type": "code",
   "execution_count": 22,
   "metadata": {
    "ExecuteTime": {
     "end_time": "2023-07-20T15:03:18.105157400Z",
     "start_time": "2023-07-20T15:03:17.596015100Z"
    },
    "collapsed": false,
    "jupyter": {
     "outputs_hidden": false
    }
   },
   "outputs": [
    {
     "name": "stdout",
     "output_type": "stream",
     "text": [
      "   Multiple Comparison of Means - Tukey HSD, FWER=0.05    \n",
      "==========================================================\n",
      "  group1    group2  meandiff p-adj   lower   upper  reject\n",
      "----------------------------------------------------------\n",
      "northeast northwest   0.0088 0.9999 -0.3851  0.4026  False\n",
      "northeast southeast   1.3938    0.0  1.0106   1.777   True\n",
      "northeast southwest   0.4743 0.0107  0.0804  0.8681   True\n",
      "northwest southeast    1.385    0.0  1.0021  1.7679   True\n",
      "northwest southwest   0.4655 0.0128  0.0719   0.859   True\n",
      "southeast southwest  -0.9195    0.0 -1.3024 -0.5367   True\n",
      "----------------------------------------------------------\n"
     ]
    }
   ],
   "source": [
    "#Union 'viral_load' values in one set\n",
    "group_values = np.concatenate([northeast['viral_load'], northwest['viral_load'],\n",
    "                               southeast['viral_load'], southwest['viral_load']])\n",
    "\n",
    "#Add labels\n",
    "group_labels = ['northeast'] * northeast.shape[0] + ['northwest'] * northwest.shape[0] \\\n",
    "               + ['southeast'] * southeast.shape[0] + ['southwest'] * southwest.shape[0]\n",
    "\n",
    "#Perfrom Tukey HSD test\n",
    "tukey_res = pairwise_tukeyhsd(group_values, group_labels, alpha=0.05)\n",
    "print(tukey_res)"
   ]
  },
  {
   "cell_type": "markdown",
   "metadata": {},
   "source": [
    "Based on test results above, all group are different from each other except Northeast and Northwest.\n",
    "p-values of northeast-northwest pair is almost 1, means these groups belong to one population."
   ]
  },
  {
   "cell_type": "markdown",
   "metadata": {},
   "source": [
    "### Viral load: Northeast <a id=\"northeast\"></a>\n",
    "In this section I applied multi-factor ANOVA to determine which below factor influence on viral load in Northeast region.\\\n",
    "Factors (independent variables):\n",
    "- sex\n",
    "- age_category\n",
    "- smoker"
   ]
  },
  {
   "cell_type": "code",
   "execution_count": 23,
   "metadata": {
    "ExecuteTime": {
     "end_time": "2023-07-20T15:03:18.142697400Z",
     "start_time": "2023-07-20T15:03:18.105157400Z"
    },
    "collapsed": false,
    "jupyter": {
     "outputs_hidden": false
    }
   },
   "outputs": [
    {
     "data": {
      "text/html": [
       "<div>\n",
       "<style scoped>\n",
       "    .dataframe tbody tr th:only-of-type {\n",
       "        vertical-align: middle;\n",
       "    }\n",
       "\n",
       "    .dataframe tbody tr th {\n",
       "        vertical-align: top;\n",
       "    }\n",
       "\n",
       "    .dataframe thead th {\n",
       "        text-align: right;\n",
       "    }\n",
       "</style>\n",
       "<table border=\"1\" class=\"dataframe\">\n",
       "  <thead>\n",
       "    <tr style=\"text-align: right;\">\n",
       "      <th></th>\n",
       "      <th>age_category</th>\n",
       "      <th>sex</th>\n",
       "      <th>smoker</th>\n",
       "      <th>count</th>\n",
       "      <th>mean_viral_load</th>\n",
       "      <th>std_viral_load</th>\n",
       "    </tr>\n",
       "  </thead>\n",
       "  <tbody>\n",
       "    <tr>\n",
       "      <th>0</th>\n",
       "      <td>18-29</td>\n",
       "      <td>female</td>\n",
       "      <td>no</td>\n",
       "      <td>39</td>\n",
       "      <td>9.904359</td>\n",
       "      <td>1.923065</td>\n",
       "    </tr>\n",
       "    <tr>\n",
       "      <th>1</th>\n",
       "      <td>18-29</td>\n",
       "      <td>female</td>\n",
       "      <td>yes</td>\n",
       "      <td>9</td>\n",
       "      <td>8.227778</td>\n",
       "      <td>2.940888</td>\n",
       "    </tr>\n",
       "    <tr>\n",
       "      <th>2</th>\n",
       "      <td>18-29</td>\n",
       "      <td>male</td>\n",
       "      <td>no</td>\n",
       "      <td>41</td>\n",
       "      <td>9.067805</td>\n",
       "      <td>1.679638</td>\n",
       "    </tr>\n",
       "    <tr>\n",
       "      <th>3</th>\n",
       "      <td>18-29</td>\n",
       "      <td>male</td>\n",
       "      <td>yes</td>\n",
       "      <td>12</td>\n",
       "      <td>9.205000</td>\n",
       "      <td>1.645216</td>\n",
       "    </tr>\n",
       "    <tr>\n",
       "      <th>4</th>\n",
       "      <td>30-39</td>\n",
       "      <td>female</td>\n",
       "      <td>no</td>\n",
       "      <td>25</td>\n",
       "      <td>8.715200</td>\n",
       "      <td>1.963102</td>\n",
       "    </tr>\n",
       "    <tr>\n",
       "      <th>5</th>\n",
       "      <td>30-39</td>\n",
       "      <td>female</td>\n",
       "      <td>yes</td>\n",
       "      <td>6</td>\n",
       "      <td>9.463333</td>\n",
       "      <td>2.207674</td>\n",
       "    </tr>\n",
       "    <tr>\n",
       "      <th>6</th>\n",
       "      <td>30-39</td>\n",
       "      <td>male</td>\n",
       "      <td>no</td>\n",
       "      <td>21</td>\n",
       "      <td>9.979524</td>\n",
       "      <td>2.208405</td>\n",
       "    </tr>\n",
       "    <tr>\n",
       "      <th>7</th>\n",
       "      <td>30-39</td>\n",
       "      <td>male</td>\n",
       "      <td>yes</td>\n",
       "      <td>9</td>\n",
       "      <td>10.492222</td>\n",
       "      <td>1.850640</td>\n",
       "    </tr>\n",
       "    <tr>\n",
       "      <th>8</th>\n",
       "      <td>40-49</td>\n",
       "      <td>female</td>\n",
       "      <td>no</td>\n",
       "      <td>26</td>\n",
       "      <td>10.626154</td>\n",
       "      <td>2.063143</td>\n",
       "    </tr>\n",
       "    <tr>\n",
       "      <th>9</th>\n",
       "      <td>40-49</td>\n",
       "      <td>female</td>\n",
       "      <td>yes</td>\n",
       "      <td>8</td>\n",
       "      <td>8.437500</td>\n",
       "      <td>1.653928</td>\n",
       "    </tr>\n",
       "    <tr>\n",
       "      <th>10</th>\n",
       "      <td>40-49</td>\n",
       "      <td>male</td>\n",
       "      <td>no</td>\n",
       "      <td>28</td>\n",
       "      <td>9.565357</td>\n",
       "      <td>1.939709</td>\n",
       "    </tr>\n",
       "    <tr>\n",
       "      <th>11</th>\n",
       "      <td>40-49</td>\n",
       "      <td>male</td>\n",
       "      <td>yes</td>\n",
       "      <td>6</td>\n",
       "      <td>9.851667</td>\n",
       "      <td>1.585174</td>\n",
       "    </tr>\n",
       "    <tr>\n",
       "      <th>12</th>\n",
       "      <td>50-64</td>\n",
       "      <td>female</td>\n",
       "      <td>no</td>\n",
       "      <td>42</td>\n",
       "      <td>10.235000</td>\n",
       "      <td>1.864091</td>\n",
       "    </tr>\n",
       "    <tr>\n",
       "      <th>13</th>\n",
       "      <td>50-64</td>\n",
       "      <td>female</td>\n",
       "      <td>yes</td>\n",
       "      <td>6</td>\n",
       "      <td>10.863333</td>\n",
       "      <td>2.001576</td>\n",
       "    </tr>\n",
       "    <tr>\n",
       "      <th>14</th>\n",
       "      <td>50-64</td>\n",
       "      <td>male</td>\n",
       "      <td>no</td>\n",
       "      <td>35</td>\n",
       "      <td>10.096857</td>\n",
       "      <td>1.740180</td>\n",
       "    </tr>\n",
       "    <tr>\n",
       "      <th>15</th>\n",
       "      <td>50-64</td>\n",
       "      <td>male</td>\n",
       "      <td>yes</td>\n",
       "      <td>11</td>\n",
       "      <td>10.039091</td>\n",
       "      <td>1.784407</td>\n",
       "    </tr>\n",
       "  </tbody>\n",
       "</table>\n",
       "</div>"
      ],
      "text/plain": [
       "   age_category     sex smoker  count  mean_viral_load  std_viral_load\n",
       "0         18-29  female     no     39         9.904359        1.923065\n",
       "1         18-29  female    yes      9         8.227778        2.940888\n",
       "2         18-29    male     no     41         9.067805        1.679638\n",
       "3         18-29    male    yes     12         9.205000        1.645216\n",
       "4         30-39  female     no     25         8.715200        1.963102\n",
       "5         30-39  female    yes      6         9.463333        2.207674\n",
       "6         30-39    male     no     21         9.979524        2.208405\n",
       "7         30-39    male    yes      9        10.492222        1.850640\n",
       "8         40-49  female     no     26        10.626154        2.063143\n",
       "9         40-49  female    yes      8         8.437500        1.653928\n",
       "10        40-49    male     no     28         9.565357        1.939709\n",
       "11        40-49    male    yes      6         9.851667        1.585174\n",
       "12        50-64  female     no     42        10.235000        1.864091\n",
       "13        50-64  female    yes      6        10.863333        2.001576\n",
       "14        50-64    male     no     35        10.096857        1.740180\n",
       "15        50-64    male    yes     11        10.039091        1.784407"
      ]
     },
     "execution_count": 23,
     "metadata": {},
     "output_type": "execute_result"
    }
   ],
   "source": [
    "#Build summary table grouped by factors\n",
    "northeast_summary = northeast.groupby(['age_category', 'sex', 'smoker'])\\\n",
    "    .agg({'age': 'count', 'viral_load': ['mean', 'std']}).reset_index()\n",
    "\n",
    "#Rename columns after grouping\n",
    "northeast_summary.columns = ['age_category', 'sex', 'smoker', 'count', 'mean_viral_load', 'std_viral_load']\n",
    "\n",
    "northeast_summary"
   ]
  },
  {
   "cell_type": "markdown",
   "metadata": {},
   "source": [
    "To automate distribution normality check (Shapiro-Wilk test) for each group (table above), I built the following function:"
   ]
  },
  {
   "cell_type": "code",
   "execution_count": 24,
   "metadata": {
    "ExecuteTime": {
     "end_time": "2023-07-20T15:03:18.188083700Z",
     "start_time": "2023-07-20T15:03:18.142697400Z"
    },
    "collapsed": false,
    "jupyter": {
     "outputs_hidden": false
    }
   },
   "outputs": [],
   "source": [
    "#Shapiro-Wilk Normality Test function\n",
    "def normality_test(summary_table, base_table):\n",
    "    groups = []\n",
    "\n",
    "    for _, row in summary_table.iterrows():\n",
    "        subgroup = [row['age_category'], row['sex'], row['smoker']]\n",
    "        groups.append(subgroup)\n",
    "\n",
    "    for filters in groups:\n",
    "\n",
    "        _, p_value = stats.shapiro(base_table[(base_table['age_category']==filters[0])\n",
    "                            &(base_table['sex']==filters[1])\n",
    "                            &(base_table['smoker']==filters[2])]['viral_load'].tolist())\n",
    "\n",
    "        print(p_value) #return p-value of test"
   ]
  },
  {
   "cell_type": "code",
   "execution_count": 25,
   "metadata": {
    "ExecuteTime": {
     "end_time": "2023-07-20T15:03:18.195077100Z",
     "start_time": "2023-07-20T15:03:18.142697400Z"
    },
    "collapsed": false,
    "jupyter": {
     "outputs_hidden": false
    }
   },
   "outputs": [
    {
     "name": "stdout",
     "output_type": "stream",
     "text": [
      "0.2789803147315979\n",
      "0.003642398165538907\n",
      "0.6972071528434753\n",
      "0.23672223091125488\n",
      "0.11754925549030304\n",
      "0.9514960646629333\n",
      "0.7227326035499573\n",
      "0.5791453123092651\n",
      "0.345513254404068\n",
      "0.2647213339805603\n",
      "0.21626004576683044\n",
      "0.38154515624046326\n",
      "0.8201383948326111\n",
      "0.048468947410583496\n",
      "0.9294612407684326\n",
      "0.8280491232872009\n"
     ]
    }
   ],
   "source": [
    "#Run function\n",
    "normality_test(northeast_summary, northeast)"
   ]
  },
  {
   "cell_type": "markdown",
   "metadata": {},
   "source": [
    "According to above results, the following groups aren't distributed normally (p<0.05) due to outliers:\n",
    "- 18-29 female smokers\n",
    "- 50-64 female smokers"
   ]
  },
  {
   "cell_type": "code",
   "execution_count": 26,
   "metadata": {
    "ExecuteTime": {
     "end_time": "2023-07-20T15:03:18.196083300Z",
     "start_time": "2023-07-20T15:03:18.145693900Z"
    },
    "collapsed": false,
    "jupyter": {
     "outputs_hidden": false
    }
   },
   "outputs": [],
   "source": [
    "#Create condition for each group to drop outliers further\n",
    "\n",
    "#50-64 female smokers outliers\n",
    "ne_1 = (northeast['age_category'] == '50-64') \\\n",
    "          & (northeast['sex'] == 'female') \\\n",
    "          & (northeast['smoker'] == 'yes') \\\n",
    "          & (northeast['viral_load'] < 11)\n",
    "\n",
    "#18-29 female smokers outliers\n",
    "ne_2 = (northeast['age_category'] == '18-29') \\\n",
    "          & (northeast['sex'] == 'female') \\\n",
    "          & (northeast['smoker'] == 'yes') \\\n",
    "          & ((northeast['viral_load'] > 12) | (northeast['viral_load'] < 7))\n",
    "\n",
    "#Drop rows according to the conditions and create new DataFrame\n",
    "northeast_adj = northeast.drop(northeast[ne_1 | ne_2].index)"
   ]
  },
  {
   "cell_type": "code",
   "execution_count": 27,
   "metadata": {
    "ExecuteTime": {
     "end_time": "2023-07-20T15:03:18.197088500Z",
     "start_time": "2023-07-20T15:03:18.154615600Z"
    },
    "collapsed": false,
    "jupyter": {
     "outputs_hidden": false
    }
   },
   "outputs": [
    {
     "name": "stdout",
     "output_type": "stream",
     "text": [
      "Test results after adjustment: \n",
      "Group 1: ShapiroResult(statistic=0.8670248985290527, pvalue=0.28617432713508606)\n",
      "Group 2: ShapiroResult(statistic=0.8633691072463989, pvalue=0.27245327830314636)\n"
     ]
    }
   ],
   "source": [
    "#Cunduct normality test again\n",
    "#50-64 female smoker group\n",
    "ne_1_adj = stats.shapiro(northeast_adj[(northeast_adj['age_category'] == '50-64')\n",
    "                                         & (northeast_adj['sex'] == 'female')\n",
    "                                         & (northeast_adj['smoker'] == 'yes')]['viral_load'])\n",
    "\n",
    "#18-29 female smoker group\n",
    "ne_2_adj = stats.shapiro(northeast_adj[(northeast_adj['age_category'] == '18-29')\n",
    "                                         & (northeast_adj['sex'] == 'female')\n",
    "                                         & (northeast_adj['smoker'] == 'yes')]['viral_load'])\n",
    "\n",
    "print('Test results after adjustment: ')\n",
    "print(f'Group 1: {ne_1_adj}')\n",
    "print(f'Group 2: {ne_2_adj}')"
   ]
  },
  {
   "cell_type": "markdown",
   "metadata": {},
   "source": [
    "p-value > 0.05, means data is distributed normally."
   ]
  },
  {
   "cell_type": "markdown",
   "metadata": {},
   "source": [
    "To automate homoscedasticity check (Levene's test) for each group (table above), I built the following function:"
   ]
  },
  {
   "cell_type": "code",
   "execution_count": 28,
   "metadata": {
    "ExecuteTime": {
     "end_time": "2023-07-20T15:03:18.198088900Z",
     "start_time": "2023-07-20T15:03:18.164Z"
    },
    "collapsed": false,
    "jupyter": {
     "outputs_hidden": false
    }
   },
   "outputs": [],
   "source": [
    "#Homoscedasticity using Levene's Test function\n",
    "def homos_test(summary_table, base_table):\n",
    "    groups = []\n",
    "    arrays = []\n",
    "\n",
    "    for _, row in summary_table.iterrows():\n",
    "        subgroup = [row['age_category'], row['sex'], row['smoker']]\n",
    "        groups.append(subgroup)\n",
    "\n",
    "    for filters in groups:\n",
    "        array = base_table[(base_table['age_category']==filters[0])\n",
    "                            &(base_table['sex']==filters[1])\n",
    "                            &(base_table['smoker']==filters[2])]['viral_load'].tolist()\n",
    "\n",
    "        arrays.append(array)\n",
    "\n",
    "    p_value = stats.levene(*arrays)\n",
    "\n",
    "    return  p_value"
   ]
  },
  {
   "cell_type": "code",
   "execution_count": 29,
   "metadata": {
    "ExecuteTime": {
     "end_time": "2023-07-20T15:03:18.241067Z",
     "start_time": "2023-07-20T15:03:18.168992900Z"
    },
    "collapsed": false,
    "jupyter": {
     "outputs_hidden": false
    }
   },
   "outputs": [
    {
     "data": {
      "text/plain": [
       "LeveneResult(statistic=0.9473929287487003, pvalue=0.5117015405804902)"
      ]
     },
     "execution_count": 29,
     "metadata": {},
     "output_type": "execute_result"
    }
   ],
   "source": [
    "homos_test(northeast_summary, northeast_adj)"
   ]
  },
  {
   "cell_type": "markdown",
   "metadata": {},
   "source": [
    "p-value > 0.05, means terms about homoscedasticity are met. Now, I can perform multivariate ANOVA."
   ]
  },
  {
   "cell_type": "code",
   "execution_count": 30,
   "metadata": {
    "ExecuteTime": {
     "end_time": "2023-07-20T15:03:18.369098300Z",
     "start_time": "2023-07-20T15:03:18.188083700Z"
    },
    "collapsed": false,
    "jupyter": {
     "outputs_hidden": false
    }
   },
   "outputs": [
    {
     "data": {
      "text/html": [
       "<div>\n",
       "<style scoped>\n",
       "    .dataframe tbody tr th:only-of-type {\n",
       "        vertical-align: middle;\n",
       "    }\n",
       "\n",
       "    .dataframe tbody tr th {\n",
       "        vertical-align: top;\n",
       "    }\n",
       "\n",
       "    .dataframe thead th {\n",
       "        text-align: right;\n",
       "    }\n",
       "</style>\n",
       "<table border=\"1\" class=\"dataframe\">\n",
       "  <thead>\n",
       "    <tr style=\"text-align: right;\">\n",
       "      <th></th>\n",
       "      <th>sum_sq</th>\n",
       "      <th>df</th>\n",
       "      <th>F</th>\n",
       "      <th>PR(&gt;F)</th>\n",
       "    </tr>\n",
       "  </thead>\n",
       "  <tbody>\n",
       "    <tr>\n",
       "      <th>C(age_category)</th>\n",
       "      <td>41.834568</td>\n",
       "      <td>3.0</td>\n",
       "      <td>4.027336</td>\n",
       "      <td>0.007859</td>\n",
       "    </tr>\n",
       "    <tr>\n",
       "      <th>C(sex)</th>\n",
       "      <td>1.536414</td>\n",
       "      <td>1.0</td>\n",
       "      <td>0.443723</td>\n",
       "      <td>0.505841</td>\n",
       "    </tr>\n",
       "    <tr>\n",
       "      <th>C(smoker)</th>\n",
       "      <td>1.080156</td>\n",
       "      <td>1.0</td>\n",
       "      <td>0.311954</td>\n",
       "      <td>0.576899</td>\n",
       "    </tr>\n",
       "    <tr>\n",
       "      <th>C(age_category):C(sex)</th>\n",
       "      <td>31.386805</td>\n",
       "      <td>3.0</td>\n",
       "      <td>3.021550</td>\n",
       "      <td>0.030023</td>\n",
       "    </tr>\n",
       "    <tr>\n",
       "      <th>C(age_category):C(smoker)</th>\n",
       "      <td>22.989978</td>\n",
       "      <td>3.0</td>\n",
       "      <td>2.213203</td>\n",
       "      <td>0.086625</td>\n",
       "    </tr>\n",
       "    <tr>\n",
       "      <th>C(sex):C(smoker)</th>\n",
       "      <td>6.802954</td>\n",
       "      <td>1.0</td>\n",
       "      <td>1.964723</td>\n",
       "      <td>0.162039</td>\n",
       "    </tr>\n",
       "    <tr>\n",
       "      <th>C(age_category):C(sex):C(smoker)</th>\n",
       "      <td>39.686207</td>\n",
       "      <td>3.0</td>\n",
       "      <td>3.820518</td>\n",
       "      <td>0.010365</td>\n",
       "    </tr>\n",
       "    <tr>\n",
       "      <th>Residual</th>\n",
       "      <td>1042.227760</td>\n",
       "      <td>301.0</td>\n",
       "      <td>NaN</td>\n",
       "      <td>NaN</td>\n",
       "    </tr>\n",
       "  </tbody>\n",
       "</table>\n",
       "</div>"
      ],
      "text/plain": [
       "                                       sum_sq     df         F    PR(>F)\n",
       "C(age_category)                     41.834568    3.0  4.027336  0.007859\n",
       "C(sex)                               1.536414    1.0  0.443723  0.505841\n",
       "C(smoker)                            1.080156    1.0  0.311954  0.576899\n",
       "C(age_category):C(sex)              31.386805    3.0  3.021550  0.030023\n",
       "C(age_category):C(smoker)           22.989978    3.0  2.213203  0.086625\n",
       "C(sex):C(smoker)                     6.802954    1.0  1.964723  0.162039\n",
       "C(age_category):C(sex):C(smoker)    39.686207    3.0  3.820518  0.010365\n",
       "Residual                          1042.227760  301.0       NaN       NaN"
      ]
     },
     "execution_count": 30,
     "metadata": {},
     "output_type": "execute_result"
    }
   ],
   "source": [
    "#Perform multi-factor ANOVA\n",
    "model_northeast = ols('''viral_load ~ C(age_category) + C(sex) + C(smoker) +\n",
    "                         C(age_category):C(sex) + C(age_category):C(smoker) + C(sex):C(smoker) +\n",
    "                         C(age_category):C(sex):C(smoker)''', data=northeast_adj).fit()\n",
    "\n",
    "sm.stats.anova_lm(model_northeast, typ=2)"
   ]
  },
  {
   "cell_type": "markdown",
   "metadata": {},
   "source": [
    "According to the test results, factor 'age_category' influence most significantly on 'viral_load', as well as interaction of 'age_category' and 'sex' factors; and interaction of all factors ('age_category', 'sex', 'smoker')"
   ]
  },
  {
   "cell_type": "code",
   "execution_count": 31,
   "metadata": {
    "ExecuteTime": {
     "end_time": "2023-07-20T15:03:18.370094900Z",
     "start_time": "2023-07-20T15:03:18.235064700Z"
    },
    "collapsed": false,
    "jupyter": {
     "outputs_hidden": false
    }
   },
   "outputs": [],
   "source": [
    "#Built function to create confidence interval visualization\n",
    "def plot_conf_interval(x, values, z=1.96, hor_line_width=0.1):\n",
    "    std = np.std(values)\n",
    "    mean = np.mean(values)\n",
    "    n = len(values)\n",
    "\n",
    "    conf_intrval = z * (std / np.sqrt(n)) #standart error\n",
    "\n",
    "    top = mean - conf_intrval #upper border\n",
    "    bottom = mean + conf_intrval #lower border\n",
    "\n",
    "    left = x - hor_line_width / 1.5 #left line length\n",
    "    right = x + hor_line_width / 1.5 #right line length\n",
    "\n",
    "    plt.plot([x, x], [top, bottom], color='blue')\n",
    "    plt.plot([left, right], [top, top], color='blue')\n",
    "    plt.plot([left, right], [bottom, bottom], color='blue')\n",
    "    plt.plot(x, mean, 'o', color='red')"
   ]
  },
  {
   "cell_type": "code",
   "execution_count": 32,
   "metadata": {
    "ExecuteTime": {
     "end_time": "2023-07-20T15:03:18.382098600Z",
     "start_time": "2023-07-20T15:03:18.236066600Z"
    },
    "collapsed": false,
    "jupyter": {
     "outputs_hidden": false
    }
   },
   "outputs": [
    {
     "data": {
      "image/png": "[encoded data removed]",
      "text/plain": [
       "<Figure size 600x500 with 1 Axes>"
      ]
     },
     "metadata": {},
     "output_type": "display_data"
    }
   ],
   "source": [
    "#Create confidence interval plot for factor 'age_category'\n",
    "plt.figure(figsize=(6,5))\n",
    "ax = plt.subplot()\n",
    "\n",
    "ax.set_xticks([1, 2, 3, 4])\n",
    "ax.set_xticklabels(['18-29', '30-39', '40-49', '50-64'])\n",
    "\n",
    "plot_conf_interval(1, northeast_adj[northeast_adj['age_category']=='18-29']['viral_load'])\n",
    "plot_conf_interval(2, northeast_adj[northeast_adj['age_category']=='30-39']['viral_load'])\n",
    "plot_conf_interval(3, northeast_adj[northeast_adj['age_category']=='40-49']['viral_load'])\n",
    "plot_conf_interval(4, northeast_adj[northeast_adj['age_category']=='50-64']['viral_load'])\n",
    "\n",
    "plt.ylabel('viral load')\n",
    "plt.title('Viral load by age groups in Northeast region')\n",
    "\n",
    "plt.show()"
   ]
  },
  {
   "cell_type": "markdown",
   "metadata": {},
   "source": [
    "Based on plot, older people have a higher level of the viral load in Northeast region."
   ]
  },
  {
   "cell_type": "code",
   "execution_count": 33,
   "metadata": {
    "ExecuteTime": {
     "end_time": "2023-07-20T15:03:18.553660Z",
     "start_time": "2023-07-20T15:03:18.376146Z"
    }
   },
   "outputs": [
    {
     "data": {
      "image/png": "[encoded data removed]",
      "text/plain": [
       "<Figure size 600x500 with 1 Axes>"
      ]
     },
     "metadata": {},
     "output_type": "display_data"
    }
   ],
   "source": [
    "#Visualize influence factors\n",
    "\n",
    "#Create sorted values for x-axis\n",
    "plt.figure(figsize=(6,5))\n",
    "sorted_categories = northeast_adj['age_category'].sort_values().unique()\n",
    "\n",
    "sns.boxplot(x=\"age_category\", y=\"viral_load\",\n",
    "            hue='sex', data=northeast_adj, order=sorted_categories)\n",
    "\n",
    "plt.ylabel('viral load')\n",
    "plt.xlabel('')\n",
    "plt.title('Viral load by gender and age group in Northeast region')\n",
    "plt.legend(loc='lower right')\n",
    "\n",
    "plt.show()"
   ]
  },
  {
   "cell_type": "markdown",
   "metadata": {},
   "source": [
    "### Viral load: Northwest <a id=\"northwest\"></a>\n",
    "In this section I applied multi-factor ANOVA to determine which factor influence on viral load in Northwest region.\\\n",
    "Factors (independent variables):\n",
    "- sex\n",
    "- age_category\n",
    "- smoker"
   ]
  },
  {
   "cell_type": "code",
   "execution_count": 34,
   "metadata": {
    "ExecuteTime": {
     "end_time": "2023-07-20T15:03:18.560703500Z",
     "start_time": "2023-07-20T15:03:18.551653200Z"
    },
    "collapsed": false,
    "jupyter": {
     "outputs_hidden": false
    }
   },
   "outputs": [
    {
     "data": {
      "text/html": [
       "<div>\n",
       "<style scoped>\n",
       "    .dataframe tbody tr th:only-of-type {\n",
       "        vertical-align: middle;\n",
       "    }\n",
       "\n",
       "    .dataframe tbody tr th {\n",
       "        vertical-align: top;\n",
       "    }\n",
       "\n",
       "    .dataframe thead th {\n",
       "        text-align: right;\n",
       "    }\n",
       "</style>\n",
       "<table border=\"1\" class=\"dataframe\">\n",
       "  <thead>\n",
       "    <tr style=\"text-align: right;\">\n",
       "      <th></th>\n",
       "      <th>age_category</th>\n",
       "      <th>sex</th>\n",
       "      <th>smoker</th>\n",
       "      <th>count</th>\n",
       "      <th>mean_viral_load</th>\n",
       "      <th>std_viral_load</th>\n",
       "    </tr>\n",
       "  </thead>\n",
       "  <tbody>\n",
       "    <tr>\n",
       "      <th>0</th>\n",
       "      <td>18-29</td>\n",
       "      <td>female</td>\n",
       "      <td>no</td>\n",
       "      <td>43</td>\n",
       "      <td>9.679767</td>\n",
       "      <td>1.825206</td>\n",
       "    </tr>\n",
       "    <tr>\n",
       "      <th>1</th>\n",
       "      <td>18-29</td>\n",
       "      <td>female</td>\n",
       "      <td>yes</td>\n",
       "      <td>8</td>\n",
       "      <td>9.203750</td>\n",
       "      <td>1.405153</td>\n",
       "    </tr>\n",
       "    <tr>\n",
       "      <th>2</th>\n",
       "      <td>18-29</td>\n",
       "      <td>male</td>\n",
       "      <td>no</td>\n",
       "      <td>43</td>\n",
       "      <td>9.314419</td>\n",
       "      <td>1.719350</td>\n",
       "    </tr>\n",
       "    <tr>\n",
       "      <th>3</th>\n",
       "      <td>18-29</td>\n",
       "      <td>male</td>\n",
       "      <td>yes</td>\n",
       "      <td>8</td>\n",
       "      <td>10.011250</td>\n",
       "      <td>1.497192</td>\n",
       "    </tr>\n",
       "    <tr>\n",
       "      <th>4</th>\n",
       "      <td>30-39</td>\n",
       "      <td>female</td>\n",
       "      <td>no</td>\n",
       "      <td>24</td>\n",
       "      <td>9.837083</td>\n",
       "      <td>2.008492</td>\n",
       "    </tr>\n",
       "    <tr>\n",
       "      <th>5</th>\n",
       "      <td>30-39</td>\n",
       "      <td>female</td>\n",
       "      <td>yes</td>\n",
       "      <td>6</td>\n",
       "      <td>9.405000</td>\n",
       "      <td>2.221592</td>\n",
       "    </tr>\n",
       "    <tr>\n",
       "      <th>6</th>\n",
       "      <td>30-39</td>\n",
       "      <td>male</td>\n",
       "      <td>no</td>\n",
       "      <td>28</td>\n",
       "      <td>9.149643</td>\n",
       "      <td>1.454557</td>\n",
       "    </tr>\n",
       "    <tr>\n",
       "      <th>7</th>\n",
       "      <td>30-39</td>\n",
       "      <td>male</td>\n",
       "      <td>yes</td>\n",
       "      <td>5</td>\n",
       "      <td>9.466000</td>\n",
       "      <td>1.350030</td>\n",
       "    </tr>\n",
       "    <tr>\n",
       "      <th>8</th>\n",
       "      <td>40-49</td>\n",
       "      <td>female</td>\n",
       "      <td>no</td>\n",
       "      <td>26</td>\n",
       "      <td>10.278077</td>\n",
       "      <td>1.820875</td>\n",
       "    </tr>\n",
       "    <tr>\n",
       "      <th>9</th>\n",
       "      <td>40-49</td>\n",
       "      <td>female</td>\n",
       "      <td>yes</td>\n",
       "      <td>8</td>\n",
       "      <td>9.655000</td>\n",
       "      <td>1.662846</td>\n",
       "    </tr>\n",
       "    <tr>\n",
       "      <th>10</th>\n",
       "      <td>40-49</td>\n",
       "      <td>male</td>\n",
       "      <td>no</td>\n",
       "      <td>25</td>\n",
       "      <td>10.011600</td>\n",
       "      <td>1.788343</td>\n",
       "    </tr>\n",
       "    <tr>\n",
       "      <th>11</th>\n",
       "      <td>40-49</td>\n",
       "      <td>male</td>\n",
       "      <td>yes</td>\n",
       "      <td>7</td>\n",
       "      <td>10.132857</td>\n",
       "      <td>2.048737</td>\n",
       "    </tr>\n",
       "    <tr>\n",
       "      <th>12</th>\n",
       "      <td>50-64</td>\n",
       "      <td>female</td>\n",
       "      <td>no</td>\n",
       "      <td>42</td>\n",
       "      <td>9.701905</td>\n",
       "      <td>1.680848</td>\n",
       "    </tr>\n",
       "    <tr>\n",
       "      <th>13</th>\n",
       "      <td>50-64</td>\n",
       "      <td>female</td>\n",
       "      <td>yes</td>\n",
       "      <td>7</td>\n",
       "      <td>9.464286</td>\n",
       "      <td>1.520897</td>\n",
       "    </tr>\n",
       "    <tr>\n",
       "      <th>14</th>\n",
       "      <td>50-64</td>\n",
       "      <td>male</td>\n",
       "      <td>no</td>\n",
       "      <td>36</td>\n",
       "      <td>10.165833</td>\n",
       "      <td>1.558784</td>\n",
       "    </tr>\n",
       "    <tr>\n",
       "      <th>15</th>\n",
       "      <td>50-64</td>\n",
       "      <td>male</td>\n",
       "      <td>yes</td>\n",
       "      <td>9</td>\n",
       "      <td>10.165556</td>\n",
       "      <td>1.344527</td>\n",
       "    </tr>\n",
       "  </tbody>\n",
       "</table>\n",
       "</div>"
      ],
      "text/plain": [
       "   age_category     sex smoker  count  mean_viral_load  std_viral_load\n",
       "0         18-29  female     no     43         9.679767        1.825206\n",
       "1         18-29  female    yes      8         9.203750        1.405153\n",
       "2         18-29    male     no     43         9.314419        1.719350\n",
       "3         18-29    male    yes      8        10.011250        1.497192\n",
       "4         30-39  female     no     24         9.837083        2.008492\n",
       "5         30-39  female    yes      6         9.405000        2.221592\n",
       "6         30-39    male     no     28         9.149643        1.454557\n",
       "7         30-39    male    yes      5         9.466000        1.350030\n",
       "8         40-49  female     no     26        10.278077        1.820875\n",
       "9         40-49  female    yes      8         9.655000        1.662846\n",
       "10        40-49    male     no     25        10.011600        1.788343\n",
       "11        40-49    male    yes      7        10.132857        2.048737\n",
       "12        50-64  female     no     42         9.701905        1.680848\n",
       "13        50-64  female    yes      7         9.464286        1.520897\n",
       "14        50-64    male     no     36        10.165833        1.558784\n",
       "15        50-64    male    yes      9        10.165556        1.344527"
      ]
     },
     "execution_count": 34,
     "metadata": {},
     "output_type": "execute_result"
    }
   ],
   "source": [
    "#Create condition for each group to further drop outliers\n",
    "northwest_summary = northwest.groupby(['age_category', 'sex', 'smoker'])\\\n",
    "    .agg({'age': 'count', 'viral_load': ['mean', 'std']}).reset_index()\n",
    "\n",
    "#Rename columns after grouping\n",
    "northwest_summary.columns = ['age_category', 'sex', 'smoker', 'count', 'mean_viral_load', 'std_viral_load']\n",
    "\n",
    "northwest_summary"
   ]
  },
  {
   "cell_type": "code",
   "execution_count": 35,
   "metadata": {
    "ExecuteTime": {
     "end_time": "2023-07-20T15:03:18.577370900Z",
     "start_time": "2023-07-20T15:03:18.559704400Z"
    },
    "collapsed": false,
    "jupyter": {
     "outputs_hidden": false
    }
   },
   "outputs": [
    {
     "name": "stdout",
     "output_type": "stream",
     "text": [
      "0.2017231285572052\n",
      "0.14289923012256622\n",
      "0.1027882918715477\n",
      "0.6095420718193054\n",
      "0.8475217819213867\n",
      "0.7588280439376831\n",
      "0.9333620071411133\n",
      "0.5456709265708923\n",
      "0.7720910310745239\n",
      "0.28698158264160156\n",
      "0.521819531917572\n",
      "0.6008535027503967\n",
      "0.3600628674030304\n",
      "0.40648889541625977\n",
      "0.6263872385025024\n",
      "0.8853344321250916\n"
     ]
    }
   ],
   "source": [
    "#Apply Normality Test function (which created above)\n",
    "normality_test(northwest_summary, northwest)"
   ]
  },
  {
   "cell_type": "markdown",
   "metadata": {},
   "source": [
    "According to the results of Shapiro-Wilk test, all groups are normally distributed."
   ]
  },
  {
   "cell_type": "code",
   "execution_count": 36,
   "metadata": {
    "ExecuteTime": {
     "end_time": "2023-07-20T15:03:18.654167Z",
     "start_time": "2023-07-20T15:03:18.578370400Z"
    },
    "collapsed": false,
    "jupyter": {
     "outputs_hidden": false
    }
   },
   "outputs": [
    {
     "data": {
      "text/plain": [
       "LeveneResult(statistic=0.6731774610051009, pvalue=0.8106049027518927)"
      ]
     },
     "execution_count": 36,
     "metadata": {},
     "output_type": "execute_result"
    }
   ],
   "source": [
    "#Apply Homoscedasticity Test function (which created above)\n",
    "homos_test(northwest_summary, northwest)"
   ]
  },
  {
   "cell_type": "markdown",
   "metadata": {},
   "source": [
    "p-value > 0.05, means terms about homoscedasticity are met. Now, we can perform multi-factor ANOVA."
   ]
  },
  {
   "cell_type": "code",
   "execution_count": 37,
   "metadata": {
    "ExecuteTime": {
     "end_time": "2023-07-20T15:03:18.655167300Z",
     "start_time": "2023-07-20T15:03:18.594986400Z"
    },
    "collapsed": false,
    "jupyter": {
     "outputs_hidden": false
    }
   },
   "outputs": [
    {
     "data": {
      "text/html": [
       "<div>\n",
       "<style scoped>\n",
       "    .dataframe tbody tr th:only-of-type {\n",
       "        vertical-align: middle;\n",
       "    }\n",
       "\n",
       "    .dataframe tbody tr th {\n",
       "        vertical-align: top;\n",
       "    }\n",
       "\n",
       "    .dataframe thead th {\n",
       "        text-align: right;\n",
       "    }\n",
       "</style>\n",
       "<table border=\"1\" class=\"dataframe\">\n",
       "  <thead>\n",
       "    <tr style=\"text-align: right;\">\n",
       "      <th></th>\n",
       "      <th>sum_sq</th>\n",
       "      <th>df</th>\n",
       "      <th>F</th>\n",
       "      <th>PR(&gt;F)</th>\n",
       "    </tr>\n",
       "  </thead>\n",
       "  <tbody>\n",
       "    <tr>\n",
       "      <th>C(age_category)</th>\n",
       "      <td>20.149536</td>\n",
       "      <td>3.0</td>\n",
       "      <td>2.283500</td>\n",
       "      <td>0.079020</td>\n",
       "    </tr>\n",
       "    <tr>\n",
       "      <th>C(sex)</th>\n",
       "      <td>0.126530</td>\n",
       "      <td>1.0</td>\n",
       "      <td>0.043018</td>\n",
       "      <td>0.835828</td>\n",
       "    </tr>\n",
       "    <tr>\n",
       "      <th>C(smoker)</th>\n",
       "      <td>0.308193</td>\n",
       "      <td>1.0</td>\n",
       "      <td>0.104780</td>\n",
       "      <td>0.746386</td>\n",
       "    </tr>\n",
       "    <tr>\n",
       "      <th>C(age_category):C(sex)</th>\n",
       "      <td>11.758620</td>\n",
       "      <td>3.0</td>\n",
       "      <td>1.332577</td>\n",
       "      <td>0.263795</td>\n",
       "    </tr>\n",
       "    <tr>\n",
       "      <th>C(age_category):C(smoker)</th>\n",
       "      <td>0.883037</td>\n",
       "      <td>3.0</td>\n",
       "      <td>0.100073</td>\n",
       "      <td>0.959924</td>\n",
       "    </tr>\n",
       "    <tr>\n",
       "      <th>C(sex):C(smoker)</th>\n",
       "      <td>6.227830</td>\n",
       "      <td>1.0</td>\n",
       "      <td>2.117356</td>\n",
       "      <td>0.146653</td>\n",
       "    </tr>\n",
       "    <tr>\n",
       "      <th>C(age_category):C(sex):C(smoker)</th>\n",
       "      <td>1.456990</td>\n",
       "      <td>3.0</td>\n",
       "      <td>0.165117</td>\n",
       "      <td>0.919823</td>\n",
       "    </tr>\n",
       "    <tr>\n",
       "      <th>Residual</th>\n",
       "      <td>908.868894</td>\n",
       "      <td>309.0</td>\n",
       "      <td>NaN</td>\n",
       "      <td>NaN</td>\n",
       "    </tr>\n",
       "  </tbody>\n",
       "</table>\n",
       "</div>"
      ],
      "text/plain": [
       "                                      sum_sq     df         F    PR(>F)\n",
       "C(age_category)                    20.149536    3.0  2.283500  0.079020\n",
       "C(sex)                              0.126530    1.0  0.043018  0.835828\n",
       "C(smoker)                           0.308193    1.0  0.104780  0.746386\n",
       "C(age_category):C(sex)             11.758620    3.0  1.332577  0.263795\n",
       "C(age_category):C(smoker)           0.883037    3.0  0.100073  0.959924\n",
       "C(sex):C(smoker)                    6.227830    1.0  2.117356  0.146653\n",
       "C(age_category):C(sex):C(smoker)    1.456990    3.0  0.165117  0.919823\n",
       "Residual                          908.868894  309.0       NaN       NaN"
      ]
     },
     "execution_count": 37,
     "metadata": {},
     "output_type": "execute_result"
    }
   ],
   "source": [
    "#Perform multi-factor ANOVA\n",
    "model_northwest = ols('''viral_load ~ C(age_category) + C(sex) + C(smoker) +\n",
    "                         C(age_category):C(sex) + C(age_category):C(smoker) + C(sex):C(smoker) +\n",
    "                         C(age_category):C(sex):C(smoker)''', data=northwest).fit()\n",
    "\n",
    "sm.stats.anova_lm(model_northwest, typ=2)"
   ]
  },
  {
   "cell_type": "markdown",
   "metadata": {},
   "source": [
    "Based on the results, neither factors nor their interaction don't influence significantly on viral load.\\\n",
    "I can assume that there is some another independent variable which isn't included in the dataset but have influence on."
   ]
  },
  {
   "cell_type": "markdown",
   "metadata": {},
   "source": [
    "### Viral load: Southeast <a id=\"southeast\"></a>\n",
    "In this section I applied multi-factor ANOVA to determine which factor influence on viral load in Southeast region.\\\n",
    "Factors (independent variables):\n",
    "- sex\n",
    "- age_category\n",
    "- smoker"
   ]
  },
  {
   "cell_type": "code",
   "execution_count": 38,
   "metadata": {
    "ExecuteTime": {
     "end_time": "2023-07-20T15:03:18.688081500Z",
     "start_time": "2023-07-20T15:03:18.620970300Z"
    },
    "collapsed": false,
    "jupyter": {
     "outputs_hidden": false
    }
   },
   "outputs": [
    {
     "data": {
      "text/html": [
       "<div>\n",
       "<style scoped>\n",
       "    .dataframe tbody tr th:only-of-type {\n",
       "        vertical-align: middle;\n",
       "    }\n",
       "\n",
       "    .dataframe tbody tr th {\n",
       "        vertical-align: top;\n",
       "    }\n",
       "\n",
       "    .dataframe thead th {\n",
       "        text-align: right;\n",
       "    }\n",
       "</style>\n",
       "<table border=\"1\" class=\"dataframe\">\n",
       "  <thead>\n",
       "    <tr style=\"text-align: right;\">\n",
       "      <th></th>\n",
       "      <th>age_category</th>\n",
       "      <th>sex</th>\n",
       "      <th>smoker</th>\n",
       "      <th>count</th>\n",
       "      <th>mean_viral_load</th>\n",
       "      <th>std_viral_load</th>\n",
       "    </tr>\n",
       "  </thead>\n",
       "  <tbody>\n",
       "    <tr>\n",
       "      <th>0</th>\n",
       "      <td>18-29</td>\n",
       "      <td>female</td>\n",
       "      <td>no</td>\n",
       "      <td>42</td>\n",
       "      <td>10.922857</td>\n",
       "      <td>1.857314</td>\n",
       "    </tr>\n",
       "    <tr>\n",
       "      <th>1</th>\n",
       "      <td>18-29</td>\n",
       "      <td>female</td>\n",
       "      <td>yes</td>\n",
       "      <td>12</td>\n",
       "      <td>10.328333</td>\n",
       "      <td>1.806880</td>\n",
       "    </tr>\n",
       "    <tr>\n",
       "      <th>2</th>\n",
       "      <td>18-29</td>\n",
       "      <td>male</td>\n",
       "      <td>no</td>\n",
       "      <td>45</td>\n",
       "      <td>11.144667</td>\n",
       "      <td>2.271771</td>\n",
       "    </tr>\n",
       "    <tr>\n",
       "      <th>3</th>\n",
       "      <td>18-29</td>\n",
       "      <td>male</td>\n",
       "      <td>yes</td>\n",
       "      <td>16</td>\n",
       "      <td>12.008125</td>\n",
       "      <td>2.554322</td>\n",
       "    </tr>\n",
       "    <tr>\n",
       "      <th>4</th>\n",
       "      <td>30-39</td>\n",
       "      <td>female</td>\n",
       "      <td>no</td>\n",
       "      <td>30</td>\n",
       "      <td>10.751667</td>\n",
       "      <td>2.041661</td>\n",
       "    </tr>\n",
       "    <tr>\n",
       "      <th>5</th>\n",
       "      <td>30-39</td>\n",
       "      <td>female</td>\n",
       "      <td>yes</td>\n",
       "      <td>4</td>\n",
       "      <td>11.020000</td>\n",
       "      <td>2.200788</td>\n",
       "    </tr>\n",
       "    <tr>\n",
       "      <th>6</th>\n",
       "      <td>30-39</td>\n",
       "      <td>male</td>\n",
       "      <td>no</td>\n",
       "      <td>25</td>\n",
       "      <td>11.926000</td>\n",
       "      <td>2.146534</td>\n",
       "    </tr>\n",
       "    <tr>\n",
       "      <th>7</th>\n",
       "      <td>30-39</td>\n",
       "      <td>male</td>\n",
       "      <td>yes</td>\n",
       "      <td>10</td>\n",
       "      <td>10.828000</td>\n",
       "      <td>1.662219</td>\n",
       "    </tr>\n",
       "    <tr>\n",
       "      <th>8</th>\n",
       "      <td>40-49</td>\n",
       "      <td>female</td>\n",
       "      <td>no</td>\n",
       "      <td>28</td>\n",
       "      <td>10.770357</td>\n",
       "      <td>1.691844</td>\n",
       "    </tr>\n",
       "    <tr>\n",
       "      <th>9</th>\n",
       "      <td>40-49</td>\n",
       "      <td>female</td>\n",
       "      <td>yes</td>\n",
       "      <td>10</td>\n",
       "      <td>11.559000</td>\n",
       "      <td>2.610213</td>\n",
       "    </tr>\n",
       "    <tr>\n",
       "      <th>10</th>\n",
       "      <td>40-49</td>\n",
       "      <td>male</td>\n",
       "      <td>no</td>\n",
       "      <td>27</td>\n",
       "      <td>11.130741</td>\n",
       "      <td>2.376610</td>\n",
       "    </tr>\n",
       "    <tr>\n",
       "      <th>11</th>\n",
       "      <td>40-49</td>\n",
       "      <td>male</td>\n",
       "      <td>yes</td>\n",
       "      <td>14</td>\n",
       "      <td>10.337857</td>\n",
       "      <td>2.490336</td>\n",
       "    </tr>\n",
       "    <tr>\n",
       "      <th>12</th>\n",
       "      <td>50-64</td>\n",
       "      <td>female</td>\n",
       "      <td>no</td>\n",
       "      <td>39</td>\n",
       "      <td>11.176667</td>\n",
       "      <td>2.235118</td>\n",
       "    </tr>\n",
       "    <tr>\n",
       "      <th>13</th>\n",
       "      <td>50-64</td>\n",
       "      <td>female</td>\n",
       "      <td>yes</td>\n",
       "      <td>10</td>\n",
       "      <td>10.343000</td>\n",
       "      <td>2.548734</td>\n",
       "    </tr>\n",
       "    <tr>\n",
       "      <th>14</th>\n",
       "      <td>50-64</td>\n",
       "      <td>male</td>\n",
       "      <td>no</td>\n",
       "      <td>37</td>\n",
       "      <td>11.465405</td>\n",
       "      <td>2.073121</td>\n",
       "    </tr>\n",
       "    <tr>\n",
       "      <th>15</th>\n",
       "      <td>50-64</td>\n",
       "      <td>male</td>\n",
       "      <td>yes</td>\n",
       "      <td>15</td>\n",
       "      <td>11.452000</td>\n",
       "      <td>2.396313</td>\n",
       "    </tr>\n",
       "  </tbody>\n",
       "</table>\n",
       "</div>"
      ],
      "text/plain": [
       "   age_category     sex smoker  count  mean_viral_load  std_viral_load\n",
       "0         18-29  female     no     42        10.922857        1.857314\n",
       "1         18-29  female    yes     12        10.328333        1.806880\n",
       "2         18-29    male     no     45        11.144667        2.271771\n",
       "3         18-29    male    yes     16        12.008125        2.554322\n",
       "4         30-39  female     no     30        10.751667        2.041661\n",
       "5         30-39  female    yes      4        11.020000        2.200788\n",
       "6         30-39    male     no     25        11.926000        2.146534\n",
       "7         30-39    male    yes     10        10.828000        1.662219\n",
       "8         40-49  female     no     28        10.770357        1.691844\n",
       "9         40-49  female    yes     10        11.559000        2.610213\n",
       "10        40-49    male     no     27        11.130741        2.376610\n",
       "11        40-49    male    yes     14        10.337857        2.490336\n",
       "12        50-64  female     no     39        11.176667        2.235118\n",
       "13        50-64  female    yes     10        10.343000        2.548734\n",
       "14        50-64    male     no     37        11.465405        2.073121\n",
       "15        50-64    male    yes     15        11.452000        2.396313"
      ]
     },
     "execution_count": 38,
     "metadata": {},
     "output_type": "execute_result"
    }
   ],
   "source": [
    "#Create condition for each group to further drop outliers\n",
    "southeast_summary = southeast.groupby(['age_category', 'sex', 'smoker'])\\\n",
    "    .agg({'age': 'count', 'viral_load': ['mean', 'std']}).reset_index()\n",
    "\n",
    "#Rename columns after grouping\n",
    "southeast_summary.columns = ['age_category', 'sex', 'smoker', 'count', 'mean_viral_load', 'std_viral_load']\n",
    "\n",
    "southeast_summary"
   ]
  },
  {
   "cell_type": "code",
   "execution_count": 39,
   "metadata": {
    "ExecuteTime": {
     "end_time": "2023-07-20T15:03:18.698076900Z",
     "start_time": "2023-07-20T15:03:18.641162600Z"
    },
    "collapsed": false,
    "jupyter": {
     "outputs_hidden": false
    }
   },
   "outputs": [
    {
     "name": "stdout",
     "output_type": "stream",
     "text": [
      "0.1434975415468216\n",
      "0.4543911814689636\n",
      "0.04584521800279617\n",
      "0.8016905188560486\n",
      "0.02667073905467987\n",
      "0.14767146110534668\n",
      "0.6923013925552368\n",
      "0.15986338257789612\n",
      "0.08599065244197845\n",
      "0.9286745190620422\n",
      "0.2621244490146637\n",
      "0.15962836146354675\n",
      "0.198849618434906\n",
      "0.2976115345954895\n",
      "0.7386855483055115\n",
      "0.1126856803894043\n"
     ]
    }
   ],
   "source": [
    "#Apply Normality Test function (which created above)\n",
    "normality_test(southeast_summary, southeast)"
   ]
  },
  {
   "cell_type": "code",
   "execution_count": 40,
   "metadata": {
    "ExecuteTime": {
     "end_time": "2023-07-20T15:03:18.700077600Z",
     "start_time": "2023-07-20T15:03:18.656167800Z"
    },
    "collapsed": false,
    "jupyter": {
     "outputs_hidden": false
    }
   },
   "outputs": [],
   "source": [
    "#Create condition for each group to further drop outliers\n",
    "\n",
    "#18-29 male not smoker outliers\n",
    "se_1 = (southeast['age_category'] == '18-29') \\\n",
    "          & (southeast['sex'] == 'male') \\\n",
    "          & (southeast['smoker'] == 'no') \\\n",
    "          & (southeast['viral_load'] > 17)\n",
    "\n",
    "#30-39 female not smoker outliers\n",
    "se_2 = (southeast['age_category'] == '30-39') \\\n",
    "          & (southeast['sex'] == 'female') \\\n",
    "          & (southeast['smoker'] == 'no') \\\n",
    "          & (southeast['viral_load'] > 14)\n",
    "\n",
    "#Drop rows according to the conditions and create new DataFrame\n",
    "southeast_adj = southeast.drop(southeast[se_1 | se_2].index)"
   ]
  },
  {
   "cell_type": "code",
   "execution_count": 41,
   "metadata": {
    "ExecuteTime": {
     "end_time": "2023-07-20T15:03:18.738536100Z",
     "start_time": "2023-07-20T15:03:18.664162200Z"
    },
    "collapsed": false,
    "jupyter": {
     "outputs_hidden": false
    }
   },
   "outputs": [
    {
     "name": "stdout",
     "output_type": "stream",
     "text": [
      "Test results after adjustment: \n",
      "Group 1: ShapiroResult(statistic=0.9662190675735474, pvalue=0.2212287187576294)\n",
      "Group 2: ShapiroResult(statistic=0.9358788132667542, pvalue=0.09641377627849579)\n"
     ]
    }
   ],
   "source": [
    "#18-29 male no smoker group\n",
    "se_1_adj = stats.shapiro(southeast_adj[(southeast_adj['age_category'] == '18-29')\n",
    "                                         & (southeast_adj['sex'] == 'male')\n",
    "                                         & (southeast_adj['smoker'] == 'no')]['viral_load'])\n",
    "\n",
    "#30-39 female no smoker group\n",
    "se_2_adj = stats.shapiro(southeast_adj[(southeast_adj['age_category'] == '30-39')\n",
    "                                         & (southeast_adj['sex'] == 'female')\n",
    "                                         & (southeast_adj['smoker'] == 'no')]['viral_load'])\n",
    "\n",
    "print('Test results after adjustment: ')\n",
    "print(f'Group 1: {se_1_adj}')\n",
    "print(f'Group 2: {se_2_adj}')"
   ]
  },
  {
   "cell_type": "markdown",
   "metadata": {},
   "source": [
    "p > 0.05, means data is normally distributed now."
   ]
  },
  {
   "cell_type": "code",
   "execution_count": 42,
   "metadata": {
    "ExecuteTime": {
     "end_time": "2023-07-20T15:03:18.828736300Z",
     "start_time": "2023-07-20T15:03:18.673336600Z"
    },
    "collapsed": false,
    "jupyter": {
     "outputs_hidden": false
    }
   },
   "outputs": [
    {
     "data": {
      "text/plain": [
       "LeveneResult(statistic=1.0157070777948927, pvalue=0.4380051171446583)"
      ]
     },
     "execution_count": 42,
     "metadata": {},
     "output_type": "execute_result"
    }
   ],
   "source": [
    "#Apply Homoscedasticity Test function (which created above)\n",
    "homos_test(southeast_summary, southeast_adj)"
   ]
  },
  {
   "cell_type": "markdown",
   "metadata": {},
   "source": [
    "p-value > 0.05, means terms about homoscedasticity are met. Now, we can perform multi-factor ANOVA."
   ]
  },
  {
   "cell_type": "code",
   "execution_count": 43,
   "metadata": {
    "ExecuteTime": {
     "end_time": "2023-07-20T15:03:18.838737900Z",
     "start_time": "2023-07-20T15:03:18.693075300Z"
    },
    "collapsed": false,
    "jupyter": {
     "outputs_hidden": false
    }
   },
   "outputs": [
    {
     "data": {
      "text/html": [
       "<div>\n",
       "<style scoped>\n",
       "    .dataframe tbody tr th:only-of-type {\n",
       "        vertical-align: middle;\n",
       "    }\n",
       "\n",
       "    .dataframe tbody tr th {\n",
       "        vertical-align: top;\n",
       "    }\n",
       "\n",
       "    .dataframe thead th {\n",
       "        text-align: right;\n",
       "    }\n",
       "</style>\n",
       "<table border=\"1\" class=\"dataframe\">\n",
       "  <thead>\n",
       "    <tr style=\"text-align: right;\">\n",
       "      <th></th>\n",
       "      <th>sum_sq</th>\n",
       "      <th>df</th>\n",
       "      <th>F</th>\n",
       "      <th>PR(&gt;F)</th>\n",
       "    </tr>\n",
       "  </thead>\n",
       "  <tbody>\n",
       "    <tr>\n",
       "      <th>C(age_category)</th>\n",
       "      <td>4.907263</td>\n",
       "      <td>3.0</td>\n",
       "      <td>0.367498</td>\n",
       "      <td>0.776512</td>\n",
       "    </tr>\n",
       "    <tr>\n",
       "      <th>C(sex)</th>\n",
       "      <td>21.004324</td>\n",
       "      <td>1.0</td>\n",
       "      <td>4.718950</td>\n",
       "      <td>0.030514</td>\n",
       "    </tr>\n",
       "    <tr>\n",
       "      <th>C(smoker)</th>\n",
       "      <td>0.816938</td>\n",
       "      <td>1.0</td>\n",
       "      <td>0.183538</td>\n",
       "      <td>0.668618</td>\n",
       "    </tr>\n",
       "    <tr>\n",
       "      <th>C(age_category):C(sex)</th>\n",
       "      <td>16.878710</td>\n",
       "      <td>3.0</td>\n",
       "      <td>1.264022</td>\n",
       "      <td>0.286598</td>\n",
       "    </tr>\n",
       "    <tr>\n",
       "      <th>C(age_category):C(smoker)</th>\n",
       "      <td>6.563927</td>\n",
       "      <td>3.0</td>\n",
       "      <td>0.491563</td>\n",
       "      <td>0.688360</td>\n",
       "    </tr>\n",
       "    <tr>\n",
       "      <th>C(sex):C(smoker)</th>\n",
       "      <td>0.127603</td>\n",
       "      <td>1.0</td>\n",
       "      <td>0.028668</td>\n",
       "      <td>0.865648</td>\n",
       "    </tr>\n",
       "    <tr>\n",
       "      <th>C(age_category):C(sex):C(smoker)</th>\n",
       "      <td>34.072529</td>\n",
       "      <td>3.0</td>\n",
       "      <td>2.551642</td>\n",
       "      <td>0.055489</td>\n",
       "    </tr>\n",
       "    <tr>\n",
       "      <th>Residual</th>\n",
       "      <td>1531.164124</td>\n",
       "      <td>344.0</td>\n",
       "      <td>NaN</td>\n",
       "      <td>NaN</td>\n",
       "    </tr>\n",
       "  </tbody>\n",
       "</table>\n",
       "</div>"
      ],
      "text/plain": [
       "                                       sum_sq     df         F    PR(>F)\n",
       "C(age_category)                      4.907263    3.0  0.367498  0.776512\n",
       "C(sex)                              21.004324    1.0  4.718950  0.030514\n",
       "C(smoker)                            0.816938    1.0  0.183538  0.668618\n",
       "C(age_category):C(sex)              16.878710    3.0  1.264022  0.286598\n",
       "C(age_category):C(smoker)            6.563927    3.0  0.491563  0.688360\n",
       "C(sex):C(smoker)                     0.127603    1.0  0.028668  0.865648\n",
       "C(age_category):C(sex):C(smoker)    34.072529    3.0  2.551642  0.055489\n",
       "Residual                          1531.164124  344.0       NaN       NaN"
      ]
     },
     "execution_count": 43,
     "metadata": {},
     "output_type": "execute_result"
    }
   ],
   "source": [
    "#ANOVA performing\n",
    "model_southeast = ols('''viral_load ~ C(age_category) + C(sex) + C(smoker) +\n",
    "                         C(age_category):C(sex) + C(age_category):C(smoker) + C(sex):C(smoker) +\n",
    "                         C(age_category):C(sex):C(smoker)''', data=southeast_adj).fit()\n",
    "\n",
    "sm.stats.anova_lm(model_southeast, typ=2)"
   ]
  },
  {
   "cell_type": "markdown",
   "metadata": {},
   "source": [
    "Based on the ANOVA results, only 'sex' significantly influence on viral load in Southeast region."
   ]
  },
  {
   "cell_type": "code",
   "execution_count": 44,
   "metadata": {
    "ExecuteTime": {
     "end_time": "2023-07-20T15:03:18.910861700Z",
     "start_time": "2023-07-20T15:03:18.732544Z"
    },
    "collapsed": false,
    "jupyter": {
     "outputs_hidden": false
    }
   },
   "outputs": [
    {
     "data": {
      "image/png": "[encoded data removed]",
      "text/plain": [
       "<Figure size 600x500 with 1 Axes>"
      ]
     },
     "metadata": {},
     "output_type": "display_data"
    }
   ],
   "source": [
    "#Visualize influence\n",
    "plt.figure(figsize=(6,5))\n",
    "ax = plt.subplot()\n",
    "\n",
    "ax.set_xticks([1, 2])\n",
    "ax.set_xticklabels(['female', 'male'])\n",
    "plot_conf_interval(1, southeast_adj[southeast_adj['sex']=='female']['viral_load'])\n",
    "plot_conf_interval(2, southeast_adj[southeast_adj['sex']=='male']['viral_load'])\n",
    "\n",
    "plt.ylabel('viral load')\n",
    "plt.title('Viral load by gender in Southeast region')\n",
    "\n",
    "plt.show()"
   ]
  },
  {
   "cell_type": "markdown",
   "metadata": {},
   "source": [
    "Based on plot above, females have lower level of viral load than males in Southeast region."
   ]
  },
  {
   "cell_type": "markdown",
   "metadata": {},
   "source": [
    "### Viral load: Southwest <a id=\"southwest\"></a>\n",
    "In this section I applied multi-factors ANOVA to determine which factor influence on viral load in Southwest region.\\\n",
    "Factors (independent variables):\n",
    "- sex\n",
    "- age_category\n",
    "- smoker"
   ]
  },
  {
   "cell_type": "code",
   "execution_count": 45,
   "metadata": {
    "ExecuteTime": {
     "end_time": "2023-07-20T15:03:18.913863Z",
     "start_time": "2023-07-20T15:03:18.827735700Z"
    },
    "collapsed": false,
    "jupyter": {
     "outputs_hidden": false
    }
   },
   "outputs": [
    {
     "data": {
      "text/html": [
       "<div>\n",
       "<style scoped>\n",
       "    .dataframe tbody tr th:only-of-type {\n",
       "        vertical-align: middle;\n",
       "    }\n",
       "\n",
       "    .dataframe tbody tr th {\n",
       "        vertical-align: top;\n",
       "    }\n",
       "\n",
       "    .dataframe thead th {\n",
       "        text-align: right;\n",
       "    }\n",
       "</style>\n",
       "<table border=\"1\" class=\"dataframe\">\n",
       "  <thead>\n",
       "    <tr style=\"text-align: right;\">\n",
       "      <th></th>\n",
       "      <th>age_category</th>\n",
       "      <th>sex</th>\n",
       "      <th>smoker</th>\n",
       "      <th>count</th>\n",
       "      <th>mean_viral_load</th>\n",
       "      <th>std_viral_load</th>\n",
       "    </tr>\n",
       "  </thead>\n",
       "  <tbody>\n",
       "    <tr>\n",
       "      <th>0</th>\n",
       "      <td>18-29</td>\n",
       "      <td>female</td>\n",
       "      <td>no</td>\n",
       "      <td>40</td>\n",
       "      <td>9.339750</td>\n",
       "      <td>1.983868</td>\n",
       "    </tr>\n",
       "    <tr>\n",
       "      <th>1</th>\n",
       "      <td>18-29</td>\n",
       "      <td>female</td>\n",
       "      <td>yes</td>\n",
       "      <td>8</td>\n",
       "      <td>9.476250</td>\n",
       "      <td>1.542622</td>\n",
       "    </tr>\n",
       "    <tr>\n",
       "      <th>2</th>\n",
       "      <td>18-29</td>\n",
       "      <td>male</td>\n",
       "      <td>no</td>\n",
       "      <td>38</td>\n",
       "      <td>9.678684</td>\n",
       "      <td>2.060448</td>\n",
       "    </tr>\n",
       "    <tr>\n",
       "      <th>3</th>\n",
       "      <td>18-29</td>\n",
       "      <td>male</td>\n",
       "      <td>yes</td>\n",
       "      <td>13</td>\n",
       "      <td>10.948462</td>\n",
       "      <td>1.356207</td>\n",
       "    </tr>\n",
       "    <tr>\n",
       "      <th>4</th>\n",
       "      <td>30-39</td>\n",
       "      <td>female</td>\n",
       "      <td>no</td>\n",
       "      <td>26</td>\n",
       "      <td>10.189231</td>\n",
       "      <td>1.652818</td>\n",
       "    </tr>\n",
       "    <tr>\n",
       "      <th>5</th>\n",
       "      <td>30-39</td>\n",
       "      <td>female</td>\n",
       "      <td>yes</td>\n",
       "      <td>6</td>\n",
       "      <td>10.078333</td>\n",
       "      <td>3.546826</td>\n",
       "    </tr>\n",
       "    <tr>\n",
       "      <th>6</th>\n",
       "      <td>30-39</td>\n",
       "      <td>male</td>\n",
       "      <td>no</td>\n",
       "      <td>20</td>\n",
       "      <td>10.605000</td>\n",
       "      <td>1.719396</td>\n",
       "    </tr>\n",
       "    <tr>\n",
       "      <th>7</th>\n",
       "      <td>30-39</td>\n",
       "      <td>male</td>\n",
       "      <td>yes</td>\n",
       "      <td>12</td>\n",
       "      <td>10.221667</td>\n",
       "      <td>1.893946</td>\n",
       "    </tr>\n",
       "    <tr>\n",
       "      <th>8</th>\n",
       "      <td>40-49</td>\n",
       "      <td>female</td>\n",
       "      <td>no</td>\n",
       "      <td>31</td>\n",
       "      <td>9.862581</td>\n",
       "      <td>1.409184</td>\n",
       "    </tr>\n",
       "    <tr>\n",
       "      <th>9</th>\n",
       "      <td>40-49</td>\n",
       "      <td>female</td>\n",
       "      <td>yes</td>\n",
       "      <td>2</td>\n",
       "      <td>10.215000</td>\n",
       "      <td>1.859691</td>\n",
       "    </tr>\n",
       "    <tr>\n",
       "      <th>10</th>\n",
       "      <td>40-49</td>\n",
       "      <td>male</td>\n",
       "      <td>no</td>\n",
       "      <td>26</td>\n",
       "      <td>10.139231</td>\n",
       "      <td>1.280715</td>\n",
       "    </tr>\n",
       "    <tr>\n",
       "      <th>11</th>\n",
       "      <td>40-49</td>\n",
       "      <td>male</td>\n",
       "      <td>yes</td>\n",
       "      <td>7</td>\n",
       "      <td>9.632857</td>\n",
       "      <td>0.618997</td>\n",
       "    </tr>\n",
       "    <tr>\n",
       "      <th>12</th>\n",
       "      <td>50-64</td>\n",
       "      <td>female</td>\n",
       "      <td>no</td>\n",
       "      <td>44</td>\n",
       "      <td>10.638636</td>\n",
       "      <td>2.053943</td>\n",
       "    </tr>\n",
       "    <tr>\n",
       "      <th>13</th>\n",
       "      <td>50-64</td>\n",
       "      <td>female</td>\n",
       "      <td>yes</td>\n",
       "      <td>5</td>\n",
       "      <td>10.840000</td>\n",
       "      <td>1.229593</td>\n",
       "    </tr>\n",
       "    <tr>\n",
       "      <th>14</th>\n",
       "      <td>50-64</td>\n",
       "      <td>male</td>\n",
       "      <td>no</td>\n",
       "      <td>42</td>\n",
       "      <td>10.937619</td>\n",
       "      <td>2.119842</td>\n",
       "    </tr>\n",
       "    <tr>\n",
       "      <th>15</th>\n",
       "      <td>50-64</td>\n",
       "      <td>male</td>\n",
       "      <td>yes</td>\n",
       "      <td>5</td>\n",
       "      <td>11.220000</td>\n",
       "      <td>1.826185</td>\n",
       "    </tr>\n",
       "  </tbody>\n",
       "</table>\n",
       "</div>"
      ],
      "text/plain": [
       "   age_category     sex smoker  count  mean_viral_load  std_viral_load\n",
       "0         18-29  female     no     40         9.339750        1.983868\n",
       "1         18-29  female    yes      8         9.476250        1.542622\n",
       "2         18-29    male     no     38         9.678684        2.060448\n",
       "3         18-29    male    yes     13        10.948462        1.356207\n",
       "4         30-39  female     no     26        10.189231        1.652818\n",
       "5         30-39  female    yes      6        10.078333        3.546826\n",
       "6         30-39    male     no     20        10.605000        1.719396\n",
       "7         30-39    male    yes     12        10.221667        1.893946\n",
       "8         40-49  female     no     31         9.862581        1.409184\n",
       "9         40-49  female    yes      2        10.215000        1.859691\n",
       "10        40-49    male     no     26        10.139231        1.280715\n",
       "11        40-49    male    yes      7         9.632857        0.618997\n",
       "12        50-64  female     no     44        10.638636        2.053943\n",
       "13        50-64  female    yes      5        10.840000        1.229593\n",
       "14        50-64    male     no     42        10.937619        2.119842\n",
       "15        50-64    male    yes      5        11.220000        1.826185"
      ]
     },
     "execution_count": 45,
     "metadata": {},
     "output_type": "execute_result"
    }
   ],
   "source": [
    "#Create condition for each group to further drop outliers\n",
    "southwest_summary = southwest.groupby(['age_category', 'sex', 'smoker'])\\\n",
    "    .agg({'age': 'count', 'viral_load': ['mean', 'std']}).reset_index()\n",
    "\n",
    "#Rename columns after grouping\n",
    "southwest_summary.columns = ['age_category', 'sex', 'smoker', 'count', 'mean_viral_load', 'std_viral_load']\n",
    "\n",
    "southwest_summary"
   ]
  },
  {
   "cell_type": "code",
   "execution_count": 46,
   "metadata": {
    "ExecuteTime": {
     "end_time": "2023-07-20T15:03:19.097540100Z",
     "start_time": "2023-07-20T15:03:18.846739600Z"
    },
    "collapsed": false,
    "jupyter": {
     "outputs_hidden": false
    }
   },
   "outputs": [
    {
     "name": "stdout",
     "output_type": "stream",
     "text": [
      "0.6751191020011902\n",
      "0.3096294403076172\n",
      "0.1921713650226593\n",
      "0.34363049268722534\n",
      "0.9002782702445984\n",
      "0.6534984111785889\n",
      "0.06465660035610199\n",
      "0.4405031204223633\n",
      "0.9523471593856812\n",
      "0.7234596014022827\n",
      "0.34212571382522583\n",
      "0.6859261393547058\n",
      "0.9662207961082458\n",
      "0.028688883408904076\n",
      "0.7340384125709534\n"
     ]
    }
   ],
   "source": [
    "#Apply Normality Test function (which created above)\n",
    "#Exclude 40-49 female smoker group deu to there are only two observations\n",
    "normality_test(southwest_summary[southwest_summary['count']>2], southwest)"
   ]
  },
  {
   "cell_type": "code",
   "execution_count": 47,
   "metadata": {
    "ExecuteTime": {
     "end_time": "2023-07-20T15:03:19.149539200Z",
     "start_time": "2023-07-20T15:03:18.869436600Z"
    },
    "collapsed": false,
    "jupyter": {
     "outputs_hidden": false
    }
   },
   "outputs": [],
   "source": [
    "#Create condition for each group to further drop outliers and exclude too small sample\n",
    "\n",
    "#40-49 female smoker\n",
    "sw_1 = (southwest['age_category'] == '40-49') \\\n",
    "          & (southwest['sex'] == 'female') \\\n",
    "          & (southwest['smoker'] == 'yes')\n",
    "\n",
    "#50-64 male not smoker outliers\n",
    "sw_2 = (southwest['age_category'] == '50-64') \\\n",
    "          & (southwest['sex'] == 'male') \\\n",
    "          & (southwest['smoker'] == 'no') \\\n",
    "          & (southwest['viral_load'] < 8)\n",
    "\n",
    "#Drop rows according to the conditions and create new DataFrame\n",
    "southwest_adj = southwest.drop(southwest[sw_1 | sw_2].index)"
   ]
  },
  {
   "cell_type": "code",
   "execution_count": 48,
   "metadata": {
    "ExecuteTime": {
     "end_time": "2023-07-20T15:03:19.174866400Z",
     "start_time": "2023-07-20T15:03:18.880191600Z"
    },
    "collapsed": false,
    "jupyter": {
     "outputs_hidden": false
    }
   },
   "outputs": [
    {
     "name": "stdout",
     "output_type": "stream",
     "text": [
      "Group 1: ShapiroResult(statistic=0.9482507109642029, pvalue=0.09212033450603485)\n"
     ]
    }
   ],
   "source": [
    "#50-64 male no smoker group\n",
    "sw_2_adj = stats.shapiro(southwest_adj[(southwest_adj['age_category'] == '50-64')\n",
    "                                         & (southwest_adj['sex'] == 'male')\n",
    "                                         & (southwest_adj['smoker'] == 'no')]['viral_load'])\n",
    "\n",
    "print(f'Group 1: {sw_2_adj}')"
   ]
  },
  {
   "cell_type": "markdown",
   "metadata": {},
   "source": [
    "p > 0.05, means data is normally distributed now."
   ]
  },
  {
   "cell_type": "code",
   "execution_count": 49,
   "metadata": {
    "ExecuteTime": {
     "end_time": "2023-07-20T15:03:19.176562400Z",
     "start_time": "2023-07-20T15:03:18.886519600Z"
    },
    "collapsed": false,
    "jupyter": {
     "outputs_hidden": false
    }
   },
   "outputs": [
    {
     "data": {
      "text/plain": [
       "LeveneResult(statistic=2.2091838404359634, pvalue=0.007576415406272214)"
      ]
     },
     "execution_count": 49,
     "metadata": {},
     "output_type": "execute_result"
    }
   ],
   "source": [
    "#Apply Homoscedasticity Test function (which created above)\n",
    "homos_test(southwest_summary[(southwest_summary['count']>2)], southwest_adj)"
   ]
  },
  {
   "cell_type": "markdown",
   "metadata": {},
   "source": [
    "p-value < 0.05, means that treams of homoscedasticity isn't met.\\\n",
    "30-39 female smoker group has extreme big std (3.54) then other groups, let's exclude it from analysis."
   ]
  },
  {
   "cell_type": "code",
   "execution_count": 50,
   "metadata": {
    "ExecuteTime": {
     "end_time": "2023-07-20T15:03:19.176562400Z",
     "start_time": "2023-07-20T15:03:18.905882100Z"
    },
    "collapsed": false,
    "jupyter": {
     "outputs_hidden": false
    }
   },
   "outputs": [],
   "source": [
    "#Create adjusted summary table\n",
    "southwest_summary_adj = southwest_summary[(southwest_summary['count'] > 2) & ~(southwest_summary['std_viral_load'] > 3.5)]"
   ]
  },
  {
   "cell_type": "code",
   "execution_count": 51,
   "metadata": {
    "ExecuteTime": {
     "end_time": "2023-07-20T15:03:19.178569500Z",
     "start_time": "2023-07-20T15:03:18.908861Z"
    },
    "collapsed": false,
    "jupyter": {
     "outputs_hidden": false
    }
   },
   "outputs": [
    {
     "data": {
      "text/plain": [
       "LeveneResult(statistic=1.630369718973062, pvalue=0.07598825188144835)"
      ]
     },
     "execution_count": 51,
     "metadata": {},
     "output_type": "execute_result"
    }
   ],
   "source": [
    "#Apply Homoscedasticity Test again with adjusted data\n",
    "homos_test(southwest_summary_adj, southwest_adj)"
   ]
  },
  {
   "cell_type": "markdown",
   "metadata": {},
   "source": [
    "p-value > 0.05, means terms about homoscedasticity are met. Now, we can perform multi-factor ANOVA."
   ]
  },
  {
   "cell_type": "code",
   "execution_count": 52,
   "metadata": {
    "ExecuteTime": {
     "end_time": "2023-07-20T15:03:19.178569500Z",
     "start_time": "2023-07-20T15:03:18.946481400Z"
    },
    "collapsed": false,
    "jupyter": {
     "outputs_hidden": false
    }
   },
   "outputs": [],
   "source": [
    "# Adjusted again, drop 30-39 female smoker group\n",
    "sw_3 = (southwest_adj['age_category'] == '30-39') \\\n",
    "          & (southwest_adj['sex'] == 'female') \\\n",
    "          & (southwest_adj['smoker'] == 'yes')\n",
    "\n",
    "southwest_adj = southwest_adj.drop(southwest_adj[sw_3].index)"
   ]
  },
  {
   "cell_type": "code",
   "execution_count": 53,
   "metadata": {
    "ExecuteTime": {
     "end_time": "2023-07-20T15:03:19.178569500Z",
     "start_time": "2023-07-20T15:03:18.947481700Z"
    },
    "collapsed": false,
    "jupyter": {
     "outputs_hidden": false
    }
   },
   "outputs": [
    {
     "name": "stderr",
     "output_type": "stream",
     "text": [
      "C:\\Users\\vadim\\anaconda3\\lib\\site-packages\\statsmodels\\base\\model.py:1871: ValueWarning: covariance of constraints does not have full rank. The number of constraints is 3, but rank is 1\n",
      "  warnings.warn('covariance of constraints does not have full '\n"
     ]
    },
    {
     "data": {
      "text/html": [
       "<div>\n",
       "<style scoped>\n",
       "    .dataframe tbody tr th:only-of-type {\n",
       "        vertical-align: middle;\n",
       "    }\n",
       "\n",
       "    .dataframe tbody tr th {\n",
       "        vertical-align: top;\n",
       "    }\n",
       "\n",
       "    .dataframe thead th {\n",
       "        text-align: right;\n",
       "    }\n",
       "</style>\n",
       "<table border=\"1\" class=\"dataframe\">\n",
       "  <thead>\n",
       "    <tr style=\"text-align: right;\">\n",
       "      <th></th>\n",
       "      <th>sum_sq</th>\n",
       "      <th>df</th>\n",
       "      <th>F</th>\n",
       "      <th>PR(&gt;F)</th>\n",
       "    </tr>\n",
       "  </thead>\n",
       "  <tbody>\n",
       "    <tr>\n",
       "      <th>C(age_category)</th>\n",
       "      <td>97.541654</td>\n",
       "      <td>3.0</td>\n",
       "      <td>10.570701</td>\n",
       "      <td>0.000001</td>\n",
       "    </tr>\n",
       "    <tr>\n",
       "      <th>C(sex)</th>\n",
       "      <td>18.804426</td>\n",
       "      <td>1.0</td>\n",
       "      <td>6.113572</td>\n",
       "      <td>0.013975</td>\n",
       "    </tr>\n",
       "    <tr>\n",
       "      <th>C(smoker)</th>\n",
       "      <td>1.320024</td>\n",
       "      <td>1.0</td>\n",
       "      <td>0.429157</td>\n",
       "      <td>0.512910</td>\n",
       "    </tr>\n",
       "    <tr>\n",
       "      <th>C(age_category):C(sex)</th>\n",
       "      <td>6.396228</td>\n",
       "      <td>3.0</td>\n",
       "      <td>0.693167</td>\n",
       "      <td>0.556837</td>\n",
       "    </tr>\n",
       "    <tr>\n",
       "      <th>C(age_category):C(smoker)</th>\n",
       "      <td>1.931260</td>\n",
       "      <td>3.0</td>\n",
       "      <td>0.209293</td>\n",
       "      <td>0.647657</td>\n",
       "    </tr>\n",
       "    <tr>\n",
       "      <th>C(sex):C(smoker)</th>\n",
       "      <td>0.014117</td>\n",
       "      <td>1.0</td>\n",
       "      <td>0.004589</td>\n",
       "      <td>0.946034</td>\n",
       "    </tr>\n",
       "    <tr>\n",
       "      <th>C(age_category):C(sex):C(smoker)</th>\n",
       "      <td>16.876938</td>\n",
       "      <td>3.0</td>\n",
       "      <td>1.828973</td>\n",
       "      <td>0.141906</td>\n",
       "    </tr>\n",
       "    <tr>\n",
       "      <th>Residual</th>\n",
       "      <td>913.527276</td>\n",
       "      <td>297.0</td>\n",
       "      <td>NaN</td>\n",
       "      <td>NaN</td>\n",
       "    </tr>\n",
       "  </tbody>\n",
       "</table>\n",
       "</div>"
      ],
      "text/plain": [
       "                                      sum_sq     df          F    PR(>F)\n",
       "C(age_category)                    97.541654    3.0  10.570701  0.000001\n",
       "C(sex)                             18.804426    1.0   6.113572  0.013975\n",
       "C(smoker)                           1.320024    1.0   0.429157  0.512910\n",
       "C(age_category):C(sex)              6.396228    3.0   0.693167  0.556837\n",
       "C(age_category):C(smoker)           1.931260    3.0   0.209293  0.647657\n",
       "C(sex):C(smoker)                    0.014117    1.0   0.004589  0.946034\n",
       "C(age_category):C(sex):C(smoker)   16.876938    3.0   1.828973  0.141906\n",
       "Residual                          913.527276  297.0        NaN       NaN"
      ]
     },
     "execution_count": 53,
     "metadata": {},
     "output_type": "execute_result"
    }
   ],
   "source": [
    "#ANOVA performing\n",
    "model_southwest = ols('''viral_load ~ C(age_category) + C(sex) + C(smoker) +\n",
    "                         C(age_category):C(sex) + C(age_category):C(smoker) + C(sex):C(smoker) +\n",
    "                         C(age_category):C(sex):C(smoker)''', data=southwest_adj).fit()\n",
    "#Test results\n",
    "sm.stats.anova_lm(model_southwest, typ=2)"
   ]
  },
  {
   "cell_type": "markdown",
   "metadata": {},
   "source": [
    "Based on the ANOVA results, only 'age_category' significantly influence on viral load as well as 'sex' in Southeast region."
   ]
  },
  {
   "cell_type": "code",
   "execution_count": 54,
   "metadata": {
    "ExecuteTime": {
     "end_time": "2023-07-20T15:03:19.431641800Z",
     "start_time": "2023-07-20T15:03:18.963488100Z"
    }
   },
   "outputs": [
    {
     "data": {
      "image/png": "[encoded data removed]",
      "text/plain": [
       "<Figure size 800x500 with 2 Axes>"
      ]
     },
     "metadata": {},
     "output_type": "display_data"
    }
   ],
   "source": [
    "#Visualize influence factors\n",
    "plt.figure(figsize=(8,5))\n",
    "\n",
    "plt.suptitle('Viral load in Southwest region')\n",
    "\n",
    "#Plot by gender\n",
    "ax1 = plt.subplot(1,2,1)\n",
    "\n",
    "ax1.set_xticks([1, 2])\n",
    "ax1.set_xticklabels(['female', 'male'])\n",
    "plot_conf_interval(1, southwest_adj[southwest_adj['sex']=='female']['viral_load'])\n",
    "plot_conf_interval(2, southwest_adj[southwest_adj['sex']=='male']['viral_load'])\n",
    "\n",
    "plt.ylabel('viral load')\n",
    "plt.title('by gender')\n",
    "\n",
    "#Plot by ages\n",
    "ax2 = plt.subplot(1,2,2)\n",
    "\n",
    "ax2.set_xticks([1, 2, 3, 4])\n",
    "ax2.set_xticklabels(['18-29', '30-39', '40-49', '50-64'])\n",
    "\n",
    "plot_conf_interval(1, southwest_adj[southwest_adj['age_category']=='18-29']['viral_load'])\n",
    "plot_conf_interval(2, southwest_adj[southwest_adj['age_category']=='30-39']['viral_load'])\n",
    "plot_conf_interval(3, southwest_adj[southwest_adj['age_category']=='40-49']['viral_load'])\n",
    "plot_conf_interval(4, southwest_adj[southwest_adj['age_category']=='50-64']['viral_load'])\n",
    "\n",
    "plt.ylabel('viral load')\n",
    "plt.title('by age')\n",
    "\n",
    "plt.tight_layout()\n",
    "plt.show()"
   ]
  },
  {
   "cell_type": "markdown",
   "metadata": {},
   "source": [
    "According to plots above, in Southwest region females have lower level of viral load than males as well as younger people."
   ]
  },
  {
   "cell_type": "markdown",
   "metadata": {},
   "source": [
    "### Viral load: Summary\n",
    "\n",
    "Factor age has a significant effect on viral load In Northeast and Southwest regions, meaning older patients have higher viral load of COVID in blood.\n",
    "\n",
    "Factor gender has a significant influence too. In the Northeast region females have higher viral load meanwhile there is the opposite situation in Southeast and Southwest regions - males have a higher this indicator.\n",
    "\n",
    "And only in the Northwest region, no factor has a significant impact on viral load. Cause of this can be the impact of another factor that isn’t present in the dataset (vaccination status, time since infection, etc.)"
   ]
  },
  {
   "cell_type": "markdown",
   "metadata": {},
   "source": [
    "## Impact on hospitalization charges <a id=\"hosp_impact\"></a>\n",
    "In this section I explored what independent variables impact on hospitalization charges."
   ]
  },
  {
   "cell_type": "code",
   "execution_count": 55,
   "metadata": {
    "ExecuteTime": {
     "end_time": "2023-07-20T15:03:19.441645500Z",
     "start_time": "2023-07-20T15:03:19.214207200Z"
    },
    "collapsed": false,
    "jupyter": {
     "outputs_hidden": false
    }
   },
   "outputs": [],
   "source": [
    "#Keep only interested fields\n",
    "hosp_charges = data[['smoker', 'viral_load', 'severity_level', 'age', 'hospitalization_charges']]"
   ]
  },
  {
   "cell_type": "markdown",
   "metadata": {},
   "source": [
    "Explore correlation between 'viral_load' and 'hospitalization_charges'. As both variables are numerical, I used regression analysis:"
   ]
  },
  {
   "cell_type": "code",
   "execution_count": 56,
   "metadata": {
    "ExecuteTime": {
     "end_time": "2023-07-20T15:03:19.442644300Z",
     "start_time": "2023-07-20T15:03:19.219618800Z"
    },
    "collapsed": false,
    "jupyter": {
     "outputs_hidden": false
    }
   },
   "outputs": [
    {
     "name": "stdout",
     "output_type": "stream",
     "text": [
      "                               OLS Regression Results                              \n",
      "===================================================================================\n",
      "Dep. Variable:     hospitalization_charges   R-squared:                       0.039\n",
      "Model:                                 OLS   Adj. R-squared:                  0.039\n",
      "Method:                      Least Squares   F-statistic:                     54.74\n",
      "Date:                     Sat, 22 Jul 2023   Prob (F-statistic):           2.43e-13\n",
      "Time:                             14:34:20   Log-Likelihood:                -15677.\n",
      "No. Observations:                     1338   AIC:                         3.136e+04\n",
      "Df Residuals:                         1336   BIC:                         3.137e+04\n",
      "Df Model:                                1                                         \n",
      "Covariance Type:                 nonrobust                                         \n",
      "==============================================================================\n",
      "                 coef    std err          t      P>|t|      [0.025      0.975]\n",
      "------------------------------------------------------------------------------\n",
      "const       2975.9489   4161.874      0.715      0.475   -5188.571    1.11e+04\n",
      "viral_load  2954.6444    399.364      7.398      0.000    2171.196    3738.092\n",
      "==============================================================================\n",
      "Omnibus:                      261.013   Durbin-Watson:                   1.983\n",
      "Prob(Omnibus):                  0.000   Jarque-Bera (JB):              431.049\n",
      "Skew:                           1.297   Prob(JB):                     2.51e-94\n",
      "Kurtosis:                       4.004   Cond. No.                         53.9\n",
      "==============================================================================\n",
      "\n",
      "Notes:\n",
      "[1] Standard Errors assume that the covariance matrix of the errors is correctly specified.\n"
     ]
    }
   ],
   "source": [
    "#Devide variables\n",
    "X = hosp_charges['viral_load']  # Independent variables\n",
    "y = hosp_charges['hospitalization_charges']  # Dependent variable\n",
    "\n",
    "# Add a constant term to the independent variables\n",
    "X = sm.add_constant(X)\n",
    "\n",
    "# Fit the multiple linear regression model\n",
    "model = sm.OLS(y, X).fit()\n",
    "\n",
    "# Print the model summary\n",
    "print(model.summary())"
   ]
  },
  {
   "cell_type": "markdown",
   "metadata": {},
   "source": [
    "According to model result, 'viral_load' describe only 3.9% of 'hospitalization_charges' variance due to small positive correlation (0.198)."
   ]
  },
  {
   "cell_type": "markdown",
   "metadata": {},
   "source": [
    "Let's add 'age' variable to the model which has 0.3 correlation coef."
   ]
  },
  {
   "cell_type": "code",
   "execution_count": 57,
   "metadata": {
    "ExecuteTime": {
     "end_time": "2023-07-20T15:03:19.443644700Z",
     "start_time": "2023-07-20T15:03:19.233240400Z"
    }
   },
   "outputs": [
    {
     "name": "stdout",
     "output_type": "stream",
     "text": [
      "                               OLS Regression Results                              \n",
      "===================================================================================\n",
      "Dep. Variable:     hospitalization_charges   R-squared:                       0.117\n",
      "Model:                                 OLS   Adj. R-squared:                  0.116\n",
      "Method:                      Least Squares   F-statistic:                     88.61\n",
      "Date:                     Sat, 22 Jul 2023   Prob (F-statistic):           7.32e-37\n",
      "Time:                             14:34:20   Log-Likelihood:                -15620.\n",
      "No. Observations:                     1338   AIC:                         3.125e+04\n",
      "Df Residuals:                         1335   BIC:                         3.126e+04\n",
      "Df Model:                                2                                         \n",
      "Covariance Type:                 nonrobust                                         \n",
      "==============================================================================\n",
      "                 coef    std err          t      P>|t|      [0.025      0.975]\n",
      "------------------------------------------------------------------------------\n",
      "const      -1.607e+04   4360.077     -3.685      0.000   -2.46e+04   -7513.357\n",
      "viral_load  2497.7487    385.294      6.483      0.000    1741.901    3253.596\n",
      "age          604.8072     55.746     10.849      0.000     495.449     714.166\n",
      "==============================================================================\n",
      "Omnibus:                      321.851   Durbin-Watson:                   2.010\n",
      "Prob(Omnibus):                  0.000   Jarque-Bera (JB):              592.507\n",
      "Skew:                           1.511   Prob(JB):                    2.18e-129\n",
      "Kurtosis:                       4.223   Cond. No.                         240.\n",
      "==============================================================================\n",
      "\n",
      "Notes:\n",
      "[1] Standard Errors assume that the covariance matrix of the errors is correctly specified.\n"
     ]
    }
   ],
   "source": [
    "factors = sm.add_constant(hosp_charges[['viral_load', 'age']])\n",
    "\n",
    "model_2_factors = sm.OLS(y, factors)\n",
    "res_2_factors = model_2_factors.fit()\n",
    "\n",
    "print(res_2_factors.summary())"
   ]
  },
  {
   "cell_type": "markdown",
   "metadata": {},
   "source": [
    "R-squared became much higher 0.12, but it still to little. 88% of variance contingent on another factor. "
   ]
  },
  {
   "cell_type": "markdown",
   "metadata": {},
   "source": [
    "Explore how 'smoker' factor influence on 'hospitalization_charges':"
   ]
  },
  {
   "cell_type": "code",
   "execution_count": 58,
   "metadata": {
    "ExecuteTime": {
     "end_time": "2023-07-20T15:03:19.445644400Z",
     "start_time": "2023-07-20T15:03:19.247042400Z"
    },
    "collapsed": false,
    "jupyter": {
     "outputs_hidden": false
    }
   },
   "outputs": [
    {
     "data": {
      "text/html": [
       "<div>\n",
       "<style scoped>\n",
       "    .dataframe tbody tr th:only-of-type {\n",
       "        vertical-align: middle;\n",
       "    }\n",
       "\n",
       "    .dataframe tbody tr th {\n",
       "        vertical-align: top;\n",
       "    }\n",
       "\n",
       "    .dataframe thead th {\n",
       "        text-align: right;\n",
       "    }\n",
       "</style>\n",
       "<table border=\"1\" class=\"dataframe\">\n",
       "  <thead>\n",
       "    <tr style=\"text-align: right;\">\n",
       "      <th></th>\n",
       "      <th>count</th>\n",
       "      <th>mean</th>\n",
       "      <th>std</th>\n",
       "      <th>min</th>\n",
       "      <th>25%</th>\n",
       "      <th>50%</th>\n",
       "      <th>75%</th>\n",
       "      <th>max</th>\n",
       "    </tr>\n",
       "    <tr>\n",
       "      <th>smoker</th>\n",
       "      <th></th>\n",
       "      <th></th>\n",
       "      <th></th>\n",
       "      <th></th>\n",
       "      <th></th>\n",
       "      <th></th>\n",
       "      <th></th>\n",
       "      <th></th>\n",
       "    </tr>\n",
       "  </thead>\n",
       "  <tbody>\n",
       "    <tr>\n",
       "      <th>no</th>\n",
       "      <td>1064.0</td>\n",
       "      <td>21085.675752</td>\n",
       "      <td>14984.455500</td>\n",
       "      <td>2805.0</td>\n",
       "      <td>9966.25</td>\n",
       "      <td>18363.5</td>\n",
       "      <td>28407.25</td>\n",
       "      <td>92277.0</td>\n",
       "    </tr>\n",
       "    <tr>\n",
       "      <th>yes</th>\n",
       "      <td>274.0</td>\n",
       "      <td>80125.572993</td>\n",
       "      <td>28853.891137</td>\n",
       "      <td>32074.0</td>\n",
       "      <td>52065.50</td>\n",
       "      <td>86141.0</td>\n",
       "      <td>102548.25</td>\n",
       "      <td>159426.0</td>\n",
       "    </tr>\n",
       "  </tbody>\n",
       "</table>\n",
       "</div>"
      ],
      "text/plain": [
       "         count          mean           std      min       25%      50%  \\\n",
       "smoker                                                                   \n",
       "no      1064.0  21085.675752  14984.455500   2805.0   9966.25  18363.5   \n",
       "yes      274.0  80125.572993  28853.891137  32074.0  52065.50  86141.0   \n",
       "\n",
       "              75%       max  \n",
       "smoker                       \n",
       "no       28407.25   92277.0  \n",
       "yes     102548.25  159426.0  "
      ]
     },
     "execution_count": 58,
     "metadata": {},
     "output_type": "execute_result"
    }
   ],
   "source": [
    "#Look at overall statistics between smokers and no smokers\n",
    "hosp_charges.groupby('smoker')['hospitalization_charges'].describe()"
   ]
  },
  {
   "cell_type": "markdown",
   "metadata": {},
   "source": [
    "As it's described on table above, mean and std are very different.\n",
    "So, I'm confident that there is statistical difference between groups, but let's use T-test to check it out."
   ]
  },
  {
   "cell_type": "code",
   "execution_count": 59,
   "metadata": {
    "ExecuteTime": {
     "end_time": "2023-07-20T15:03:19.445644400Z",
     "start_time": "2023-07-20T15:03:19.264075400Z"
    },
    "collapsed": false,
    "jupyter": {
     "outputs_hidden": false
    }
   },
   "outputs": [],
   "source": [
    "#Devide into two groups\n",
    "smoker = hosp_charges[hosp_charges['smoker']=='yes']['hospitalization_charges']\n",
    "non_smoker = hosp_charges[hosp_charges['smoker']=='no']['hospitalization_charges']\n"
   ]
  },
  {
   "cell_type": "markdown",
   "metadata": {},
   "source": [
    "Build QQ plots to see how data distributed across groups"
   ]
  },
  {
   "cell_type": "code",
   "execution_count": 60,
   "metadata": {
    "ExecuteTime": {
     "end_time": "2023-07-20T15:03:19.739879300Z",
     "start_time": "2023-07-20T15:03:19.271575300Z"
    }
   },
   "outputs": [
    {
     "data": {
      "image/png": "[encoded data removed]",
      "text/plain": [
       "<Figure size 800x400 with 2 Axes>"
      ]
     },
     "metadata": {},
     "output_type": "display_data"
    }
   ],
   "source": [
    "plt.figure(figsize=(8, 4))\n",
    "plt.subplot(1, 2, 1)\n",
    "\n",
    "stats.probplot(smoker, dist='norm', plot=plt)\n",
    "plt.title('QQ-plot Smoker')\n",
    "\n",
    "plt.subplot(1, 2, 2)\n",
    "stats.probplot(non_smoker, dist='norm', plot=plt)\n",
    "plt.title('QQ-plot Non smoker')\n",
    "\n",
    "plt.tight_layout()\n",
    "plt.show()"
   ]
  },
  {
   "cell_type": "markdown",
   "metadata": {},
   "source": [
    "Data isn't distributed in both groups. I transform values to log for each group: "
   ]
  },
  {
   "cell_type": "code",
   "execution_count": 61,
   "metadata": {
    "ExecuteTime": {
     "end_time": "2023-07-20T15:03:19.977433400Z",
     "start_time": "2023-07-20T15:03:19.634833900Z"
    }
   },
   "outputs": [
    {
     "data": {
      "image/png": "[encoded data removed]",
      "text/plain": [
       "<Figure size 800x400 with 2 Axes>"
      ]
     },
     "metadata": {},
     "output_type": "display_data"
    }
   ],
   "source": [
    "plt.figure(figsize=(8, 4))\n",
    "plt.subplot(1, 2, 1)\n",
    "\n",
    "stats.probplot(np.log(smoker), dist='norm', plot=plt)\n",
    "plt.title('Log - QQ-plot Smoker')\n",
    "\n",
    "plt.subplot(1, 2, 2)\n",
    "stats.probplot(np.log(non_smoker), dist='norm', plot=plt)\n",
    "plt.title('Log - QQ-plot Non smoker')\n",
    "\n",
    "plt.tight_layout()\n",
    "plt.show()"
   ]
  },
  {
   "cell_type": "markdown",
   "metadata": {},
   "source": [
    "Now values looks musch closer to normal distribution. Use T-test on log-transformed values:"
   ]
  },
  {
   "cell_type": "code",
   "execution_count": 62,
   "metadata": {
    "ExecuteTime": {
     "end_time": "2023-07-20T15:03:19.983928900Z",
     "start_time": "2023-07-20T15:03:19.977433400Z"
    }
   },
   "outputs": [
    {
     "data": {
      "text/plain": [
       "Ttest_indResult(statistic=32.59026445594537, pvalue=6.305159442198459e-172)"
      ]
     },
     "execution_count": 62,
     "metadata": {},
     "output_type": "execute_result"
    }
   ],
   "source": [
    "stats.ttest_ind(np.log(smoker), np.log(non_smoker))"
   ]
  },
  {
   "cell_type": "markdown",
   "metadata": {},
   "source": [
    "p-value < 0.05 - reject null hypothesis. There is significant difference in hospitalization costs between groups."
   ]
  },
  {
   "cell_type": "code",
   "execution_count": 63,
   "metadata": {
    "ExecuteTime": {
     "end_time": "2023-07-20T15:03:20.115977900Z",
     "start_time": "2023-07-20T15:03:19.985930200Z"
    },
    "collapsed": false,
    "jupyter": {
     "outputs_hidden": false
    }
   },
   "outputs": [
    {
     "data": {
      "image/png": "[encoded data removed]",
      "text/plain": [
       "<Figure size 600x500 with 1 Axes>"
      ]
     },
     "metadata": {},
     "output_type": "display_data"
    }
   ],
   "source": [
    "#Plot distributions of two samples\n",
    "plt.figure(figsize=(6,5))\n",
    "sns.boxplot(x='smoker', y='hospitalization_charges', data=hosp_charges)\n",
    "plt.ylabel('hospitalization charges')\n",
    "plt.title('Distribution by smokers and non-smokers')\n",
    "\n",
    "plt.show()"
   ]
  },
  {
   "cell_type": "markdown",
   "metadata": {},
   "source": [
    "According to the test results and visualization, smokers usually pay much higher for hospitalization than non-smokers."
   ]
  },
  {
   "cell_type": "markdown",
   "metadata": {},
   "source": [
    "Now, let's test how 'severity_level' influence on 'hospitalization_charges':"
   ]
  },
  {
   "cell_type": "code",
   "execution_count": 64,
   "metadata": {
    "ExecuteTime": {
     "end_time": "2023-07-20T15:03:20.123959200Z",
     "start_time": "2023-07-20T15:03:20.116972700Z"
    },
    "collapsed": false,
    "jupyter": {
     "outputs_hidden": false
    }
   },
   "outputs": [],
   "source": [
    "#Devide records by severity level (0-5)\n",
    "lvl_0 = hosp_charges[hosp_charges['severity_level'] == 0]['hospitalization_charges']\n",
    "lvl_1 = hosp_charges[hosp_charges['severity_level'] == 1]['hospitalization_charges']\n",
    "lvl_2 = hosp_charges[hosp_charges['severity_level'] == 2]['hospitalization_charges']\n",
    "lvl_3 = hosp_charges[hosp_charges['severity_level'] == 3]['hospitalization_charges']\n",
    "lvl_4 = hosp_charges[hosp_charges['severity_level'] == 4]['hospitalization_charges']\n",
    "lvl_5 = hosp_charges[hosp_charges['severity_level'] == 5]['hospitalization_charges']"
   ]
  },
  {
   "cell_type": "code",
   "execution_count": 65,
   "metadata": {
    "ExecuteTime": {
     "end_time": "2023-07-20T15:03:20.309686700Z",
     "start_time": "2023-07-20T15:03:20.125954200Z"
    },
    "collapsed": false,
    "jupyter": {
     "outputs_hidden": false
    }
   },
   "outputs": [
    {
     "data": {
      "image/png": "[encoded data removed]",
      "text/plain": [
       "<Figure size 600x500 with 1 Axes>"
      ]
     },
     "metadata": {},
     "output_type": "display_data"
    }
   ],
   "source": [
    "#Plot distribution of each severity level\n",
    "plt.figure(figsize=(6,5))\n",
    "sns.boxplot(x=\"severity_level\", y=\"hospitalization_charges\", data=hosp_charges)\n",
    "plt.ylabel('hospitalization charges')\n",
    "plt.xlabel('level')\n",
    "plt.title('Distribution of hospitalization charges by severity level')\n",
    "\n",
    "plt.show()"
   ]
  },
  {
   "cell_type": "markdown",
   "metadata": {},
   "source": [
    "According to boxplots, each level distribution is skewed right and has outliers.\n",
    "However, ANOVA requires normal distributions. To fix that let's drop outliers and logarithmize 'hospitalization charges' variable:"
   ]
  },
  {
   "cell_type": "code",
   "execution_count": 66,
   "metadata": {
    "ExecuteTime": {
     "end_time": "2023-07-20T15:03:20.320857900Z",
     "start_time": "2023-07-20T15:03:20.312674500Z"
    },
    "collapsed": false,
    "jupyter": {
     "outputs_hidden": false
    }
   },
   "outputs": [
    {
     "data": {
      "text/plain": [
       "F_onewayResult(statistic=14.95656548679584, pvalue=2.910403721194005e-14)"
      ]
     },
     "execution_count": 66,
     "metadata": {},
     "output_type": "execute_result"
    }
   ],
   "source": [
    "#Filter out outliers and apply natural logarithm for each group\n",
    "lvl_0_adj = np.log(lvl_0[lvl_0<75000])\n",
    "lvl_1_adj = np.log(lvl_1[lvl_1<80000])\n",
    "lvl_2_adj = np.log(lvl_2[lvl_2<100000])\n",
    "lvl_3_adj = np.log(lvl_3[lvl_3<90000])\n",
    "lvl_4_adj = np.log(lvl_4[lvl_4<70000])\n",
    "lvl_5_adj = np.log(lvl_5[lvl_5<40000])\n",
    "\n",
    "#Perform 1-way ANOVA\n",
    "res_lvl = stats.f_oneway(lvl_0_adj, lvl_1_adj, lvl_2_adj, lvl_3_adj, lvl_4_adj, lvl_5_adj)\n",
    "res_lvl"
   ]
  },
  {
   "cell_type": "markdown",
   "metadata": {},
   "source": [
    "p-value < 0.05, means at least two groups are significant different from each other.\\\n",
    "Perform Tukey HSD test to find difference between each pair:"
   ]
  },
  {
   "cell_type": "code",
   "execution_count": 67,
   "metadata": {
    "ExecuteTime": {
     "end_time": "2023-07-20T15:03:20.937554500Z",
     "start_time": "2023-07-20T15:03:20.321863800Z"
    },
    "collapsed": false,
    "jupyter": {
     "outputs_hidden": false
    }
   },
   "outputs": [
    {
     "name": "stdout",
     "output_type": "stream",
     "text": [
      " Multiple Comparison of Means - Tukey HSD, FWER=0.05 \n",
      "=====================================================\n",
      " group1  group2 meandiff p-adj   lower  upper  reject\n",
      "-----------------------------------------------------\n",
      "level 0 level 1    0.197 0.0076   0.034 0.3601   True\n",
      "level 0 level 2   0.4354    0.0   0.256 0.6149   True\n",
      "level 0 level 3   0.4723    0.0  0.2597 0.6849   True\n",
      "level 0 level 4   0.5274 0.0189  0.0539  1.001   True\n",
      "level 0 level 5   0.2233  0.854 -0.3244  0.771  False\n",
      "level 1 level 2   0.2384 0.0083  0.0398  0.437   True\n",
      "level 1 level 3   0.2753 0.0081  0.0463 0.5042   True\n",
      "level 1 level 4   0.3304 0.3662 -0.1507 0.8115  False\n",
      "level 1 level 5   0.0262    1.0  -0.528 0.5805  False\n",
      "level 2 level 3   0.0369  0.998  -0.204 0.2778  False\n",
      "level 2 level 4    0.092 0.9945 -0.3949 0.5789  False\n",
      "level 2 level 5  -0.2121 0.8884 -0.7715 0.3472  False\n",
      "level 3 level 4   0.0551 0.9996 -0.4449 0.5552  False\n",
      "level 3 level 5   -0.249 0.8144 -0.8198 0.3218  False\n",
      "level 4 level 5  -0.3041 0.8263 -1.0147 0.4064  False\n",
      "-----------------------------------------------------\n"
     ]
    }
   ],
   "source": [
    "#Union all levels hospital charges values\n",
    "group_lvl = np.concatenate([lvl_0_adj, lvl_1_adj, lvl_2_adj, lvl_3_adj, lvl_4_adj, lvl_5_adj])\n",
    "\n",
    "#Add labels\n",
    "labels_lvl = ['level 0'] * lvl_0_adj.shape[0] + ['level 1'] * lvl_1_adj.shape[0] \\\n",
    "               + ['level 2'] * lvl_2_adj.shape[0] + ['level 3'] * lvl_3_adj.shape[0] \\\n",
    "               + ['level 4'] * lvl_4_adj.shape[0] + ['level 5'] * lvl_5_adj.shape[0]\n",
    "\n",
    "#Run Tukey test\n",
    "tukey_res_lvl = pairwise_tukeyhsd(group_lvl, labels_lvl, alpha=0.05)\n",
    "\n",
    "print(tukey_res_lvl)"
   ]
  },
  {
   "cell_type": "code",
   "execution_count": 68,
   "metadata": {
    "ExecuteTime": {
     "end_time": "2023-07-20T15:03:21.125499Z",
     "start_time": "2023-07-20T15:03:20.940555600Z"
    },
    "collapsed": false,
    "jupyter": {
     "outputs_hidden": false
    }
   },
   "outputs": [
    {
     "data": {
      "image/png": "[encoded data removed]",
      "text/plain": [
       "<Figure size 600x500 with 1 Axes>"
      ]
     },
     "metadata": {},
     "output_type": "display_data"
    }
   ],
   "source": [
    "#Build confidence interval plot\n",
    "plt.figure(figsize=(6,5))\n",
    "ax = plt.subplot()\n",
    "ax.set_xticks([0, 1, 2, 3, 4, 5])\n",
    "ax.set_xticklabels(['level 0', 'level 1', 'level 2', 'level 3', 'level 4', 'level 5'])\n",
    "plot_conf_interval(0, lvl_0_adj)\n",
    "plot_conf_interval(1, lvl_1_adj)\n",
    "plot_conf_interval(2, lvl_2_adj)\n",
    "plot_conf_interval(3, lvl_3_adj)\n",
    "plot_conf_interval(4, lvl_4_adj)\n",
    "plot_conf_interval(5, lvl_5_adj)\n",
    "\n",
    "plt.ylabel('log (hospitalization_charges)')\n",
    "plt.title('Hospitalization charges by severity level')\n",
    "\n",
    "plt.show()"
   ]
  },
  {
   "cell_type": "markdown",
   "metadata": {},
   "source": [
    "According to the table above, a statistically significant correlation was found between level of severity and hospitalization charges.\n",
    "Specifically, patients with severity level 0 pay less than other level patients (except level 5 - no difference).\n",
    "And only patients with severity level 2 and 3 pay more than patients with level 1. Hospitalization charges in level 4 patients and level 1 once isn't different."
   ]
  },
  {
   "cell_type": "markdown",
   "metadata": {},
   "source": [
    "### Impact on hospitalization charges: Summary\n",
    "\n",
    "Viral load and age explain only 11.6% hospitalization costs variation. \n",
    "\n",
    "Smoking patients pay much higher than non-smoking patients (median: 86141 vs 18363).\n",
    "\n",
    "Severity Level 0 and level 5 patients pay less (median: 24098). Hospitalization charges are higher for 2-4 severity level patients (median: 25372)."
   ]
  }
 ],
 "metadata": {
  "kernelspec": {
   "display_name": "Python 3 (ipykernel)",
   "language": "python",
   "name": "python3"
  },
  "language_info": {
   "codemirror_mode": {
    "name": "ipython",
    "version": 3
   },
   "file_extension": ".py",
   "mimetype": "text/x-python",
   "name": "python",
   "nbconvert_exporter": "python",
   "pygments_lexer": "ipython3",
   "version": "3.10.9"
  }
 },
 "nbformat": 4,
 "nbformat_minor": 4
}
